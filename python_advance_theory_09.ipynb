{
 "cells": [
  {
   "cell_type": "code",
   "execution_count": 1,
   "id": "fc8206b1",
   "metadata": {},
   "outputs": [],
   "source": [
    "#Q1. In Python 3.X, what are the names and functions of string object types?"
   ]
  },
  {
   "cell_type": "markdown",
   "id": "02ac5cb6",
   "metadata": {},
   "source": [
    "Numbers\t: 1234, 3.1415, 3+4j, Decimal, Fraction<br>\n",
    "Strings : 'python', \"Jupiter's\", b'a\\x01c'<br>\n",
    "Lists\t: [1, [2, 'three'], 4]<br>\n",
    "Dictionaries\t: {'Apple': 'iPhone', 'Google': 'Android'}<br>\n",
    "Tuples :  {1, 'php', 3, 'Y'}<br>\n",
    "Files :\tmyFile = open('java', 'r')<br>\n",
    "Sets :\tset('xyz'), {'x', 'y', 'z'}<br>\n",
    "Other core types :\tBooleans, types, None<br>\n",
    "Program unit types : Functions, modules, classes<br>\n",
    "Implementation related types :\tCompiled code, stack tracebacks<br>"
   ]
  },
  {
   "cell_type": "code",
   "execution_count": 2,
   "id": "70070c2d",
   "metadata": {},
   "outputs": [],
   "source": [
    "#Q2. How do the string forms in Python 3.X vary in terms of operations?"
   ]
  },
  {
   "cell_type": "markdown",
   "id": "7e5afcd3",
   "metadata": {},
   "source": [
    "<p>The constants defined in this module are:</p>\n",
    "\n",
    "string.ascii_letters<br>\n",
    "The concatenation of the ascii_lowercase and ascii_uppercase constants described below. This value is not locale-dependent.<br><br>\n",
    "\n",
    "string.ascii_lowercase<br>\n",
    "The lowercase letters 'abcdefghijklmnopqrstuvwxyz'. This value is not locale-dependent and will not change.<br><br>\n",
    "\n",
    "string.ascii_uppercase<br>\n",
    "The uppercase letters 'ABCDEFGHIJKLMNOPQRSTUVWXYZ'. This value is not locale-dependent and will not change.<br><br>\n",
    "\n",
    "string.digits<br>\n",
    "The string '0123456789'.<br><br>\n",
    "\n",
    "string.hexdigits<br>\n",
    "The string '0123456789abcdefABCDEF'.<br>v\n",
    "\n",
    "string.octdigits<br>\n",
    "The string '01234567'.<br><br>\n",
    "\n",
    "string.punctuation<br>\n",
    "String of ASCII characters which are considered punctuation characters in the C locale: !\"#$%&'()*+,-./:;<=>?@[\\]^_`{|}~. <br><br>\n",
    "\n",
    "string.printable<br>\n",
    "String of ASCII characters which are considered printable. This is a combination of digits, ascii_letters, punctuation, and whitespace.<br><br>\n",
    "\n",
    "string.whitespace<br>\n",
    "A string containing all ASCII characters that are considered whitespace. This includes the characters space, tab, linefeed, return, formfeed, and vertical tab."
   ]
  },
  {
   "cell_type": "code",
   "execution_count": 3,
   "id": "3685ab0b",
   "metadata": {},
   "outputs": [],
   "source": [
    "#Q3. In 3.X, how do you put non-ASCII Unicode characters in a string?"
   ]
  },
  {
   "cell_type": "markdown",
   "id": "52b56f9b",
   "metadata": {},
   "source": [
    "In order to use non-ASCII characters, Python requires explicit encoding and decoding of strings into Unicode. In IBM® SPSS® Modeler, Python scripts are assumed to be encoded in UTF-8, which is a standard Unicode encoding that supports non-ASCII characters."
   ]
  },
  {
   "cell_type": "code",
   "execution_count": 4,
   "id": "012c51ca",
   "metadata": {},
   "outputs": [],
   "source": [
    "#Q4. In Python 3.X, what are the key differences between text-mode and binary-mode files?"
   ]
  },
  {
   "cell_type": "markdown",
   "id": "60a7da3c",
   "metadata": {},
   "source": [
    "<p>The major difference between these two is that a text file contains textual information in the form of alphabets, digits and special characters or symbols. On the other hand, a binary file contains bytes or a compiled version of a text file.</p>"
   ]
  },
  {
   "cell_type": "code",
   "execution_count": 5,
   "id": "fd75a1ce",
   "metadata": {},
   "outputs": [],
   "source": [
    "#Q5. How can you interpret a Unicode text file containing text encoded in a different encoding than\n",
    "# your platform's default?"
   ]
  },
  {
   "cell_type": "markdown",
   "id": "8b343ab9",
   "metadata": {},
   "source": [
    "<p>The key difference is that the default text processing behaviour in Python 3 aims to detect text encoding problems as early as possible - either when reading improperly encoded text (indicated by UnicodeDecodeError) or when being asked to write out a text sequence that cannot be correctly represented in the target encoding (indicated by UnicodeEncodeError).</p>\n",
    "\n",
    "<p>This contrasts with the Python 2 approach which allowed data corruption by default and strict correctness checks had to be requested explicitly. That could certainly be convenient when the data being processed was predominantly ASCII text, and the occasional bit of data corruption was unlikely to be even detected, let alone cause problems, but it’s hardly a solid foundation for building robust multilingual applications (as anyone that has ever had to track down an errant UnicodeError in Python 2 will know).</p>\n",
    "\n",
    "<p>However, Python 3 does provide a number of mechanisms for relaxing the default strict checks in order to handle various text processing use cases (in particular, use cases where “best effort” processing is acceptable, and strict correctness is not required). This article aims to explain some of them by looking at cases where it would be appropriate to use them.\n",
    "</p>\n",
    "<p>\n",
    "Note that many of the features I discuss below are available in Python 2 as well, but you have to explicitly access them via the unicode type and the codecs module. In Python 3, they’re part of the behaviour of the str type and the open builtin.\n",
    "</p>"
   ]
  },
  {
   "cell_type": "code",
   "execution_count": 6,
   "id": "494dc283",
   "metadata": {},
   "outputs": [],
   "source": [
    "#Q6. What is the best way to make a Unicode text file in a particular encoding format?"
   ]
  },
  {
   "cell_type": "markdown",
   "id": "b57cb43e",
   "metadata": {},
   "source": [
    "<p>USE str.encode() AND file.write() TO WRITE UNICODE TEXT TO A TEXT FILE</p>\n",
    "<p>Call str.encode(encoding) with encoding set to \"utf8\" to encode str. Call open(file, mode) to open a file with mode set to \"wb\" . \"wb\" writes to files in binary mode and preserves UTF-8 format. Call file.write(data) to write data to the file.</p>\n",
    "<div>\n",
    "unicode_text = u'ʑʒʓʔʕʗʘʙʚʛʜʝʞ'<br>\n",
    "encoded_unicode = unicode_text.encode(\"utf8\")<br>\n",
    "\n",
    "a_file = open(\"textfile.txt\", \"wb\")<br>\n",
    "a_file.write(encoded_unicode)<br>\n",
    "\n",
    "a_file = open(\"textfile.txt\", \"r\")<br>\n",
    "\n",
    "contents = a_file.read()<br>\n",
    "\n",
    "print(contents)<br>\n",
    "<b>OUTPUT</b><br>\n",
    "ʑʒʓʔʕʗʘʙʚʛʜʝʞ\n",
    "</div>"
   ]
  },
  {
   "cell_type": "code",
   "execution_count": 7,
   "id": "a2939e22",
   "metadata": {},
   "outputs": [],
   "source": [
    "#Q7. What qualifies ASCII text as a form of Unicode text?"
   ]
  },
  {
   "cell_type": "markdown",
   "id": "7cd1f6a9",
   "metadata": {},
   "source": [
    "You can use from __future__ import unicode_literals to make it the default. This only applies to Python 2; in Python 3 the default is Unicode, and you need to specify a b in front (like b'These are bytes' , to declare a sequence of bytes). The default source encoding for Python 2 is ascii. <br>\n",
    "The main takeaways in Python are: 1. Python 2 uses str type to store bytes and unicode type to store unicode code points. All strings by default are str type — which is bytes~ And Default encoding is ASCII."
   ]
  },
  {
   "cell_type": "code",
   "execution_count": 8,
   "id": "46d6b396",
   "metadata": {},
   "outputs": [],
   "source": [
    "#Q8. How much of an effect does the change in string types in Python 3.X have on your code?"
   ]
  },
  {
   "cell_type": "markdown",
   "id": "91279e46",
   "metadata": {},
   "source": [
    "To create a string, put the sequence of characters inside either single quotes, double quotes, or triple quotes and then assign it to a variable. You can look into how variables work in Python in the Python variables tutorial. For example, you can assign a character 'a' to a variable single_quote_character ."
   ]
  }
 ],
 "metadata": {
  "kernelspec": {
   "display_name": "Python 3 (ipykernel)",
   "language": "python",
   "name": "python3"
  },
  "language_info": {
   "codemirror_mode": {
    "name": "ipython",
    "version": 3
   },
   "file_extension": ".py",
   "mimetype": "text/x-python",
   "name": "python",
   "nbconvert_exporter": "python",
   "pygments_lexer": "ipython3",
   "version": "3.10.1"
  }
 },
 "nbformat": 4,
 "nbformat_minor": 5
}
