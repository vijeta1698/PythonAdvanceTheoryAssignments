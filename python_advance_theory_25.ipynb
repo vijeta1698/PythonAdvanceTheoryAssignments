{
 "cells": [
  {
   "cell_type": "code",
   "execution_count": 1,
   "id": "48f74619",
   "metadata": {},
   "outputs": [],
   "source": [
    "# Q1. What is the distinction between a numpy array and a pandas data frame? Is there a way to\n",
    "# convert between the two if there is?"
   ]
  },
  {
   "cell_type": "markdown",
   "id": "faaaf494",
   "metadata": {},
   "source": [
    "<p>Pandas has a better performance when number of rows is 500K or more. Numpy has a better performance when number of rows is 50K or less. Indexing of the pandas series is very slow as compared to numpy arrays.</p>\n",
    "<b>Convert a NumPy Array to Pandas DataFrame</b><br>\n",
    "<span>\n",
    "import numpy as np<br>\n",
    "\n",
    "my_array = np.array([[11,22,33],[44,55,66]])<br>\n",
    "\n",
    "print(my_array)<br>\n",
    "print(type(my_array))<br>\n",
    "</span><br>"
   ]
  },
  {
   "cell_type": "code",
   "execution_count": 2,
   "id": "f71f8ee1",
   "metadata": {},
   "outputs": [],
   "source": [
    "# Q2. What can go wrong when an user enters in a stock-ticker symbol, and how do you handle it?"
   ]
  },
  {
   "cell_type": "markdown",
   "id": "b813a53d",
   "metadata": {},
   "source": [
    "<p>A ticker symbol change really means nothing to you, the investor, in the grand scheme of things. The change doesn't do anything to markets or to the way you execute trades. Since everything is electronic, your trading platform or broker will already update your portfolio to include the new ticker symbol.</p>\n",
    "<p>A stock ticker reports transaction and price data for a security, updated continuously throughout the day. A stock ticker typically reports on the most active securities or ones making headlines on a given day.</p>"
   ]
  },
  {
   "cell_type": "code",
   "execution_count": 3,
   "id": "4e014e18",
   "metadata": {},
   "outputs": [],
   "source": [
    "# Q3. Identify some of the plotting techniques that are used to produce a stock-market chart."
   ]
  },
  {
   "cell_type": "markdown",
   "id": "5d4a9a1f",
   "metadata": {},
   "source": [
    "<p>Matplotlib is a plotting library for creating static, animated, and interactive visualizations in Python. Matplotlib can be used in Python scripts, the Python and IPython shell, web application servers, and various graphical user interface toolkits like Tkinter, awxPython, etc</p>\n",
    "<p>pyplot is a plotting library used for 2D graphics in python programming language. It can be used in python scripts, shell, web application servers and other graphical user interface toolkits</p>"
   ]
  },
  {
   "cell_type": "code",
   "execution_count": 4,
   "id": "c7bd17f5",
   "metadata": {},
   "outputs": [],
   "source": [
    "# Q4. Why is it essential to print a legend on a stock market chart?"
   ]
  },
  {
   "cell_type": "markdown",
   "id": "9a83aa6d",
   "metadata": {},
   "source": [
    "<p>For investors, the stock chart is the tool that separates the novice from the MarketSmith. Stock charts record price and volume history to help you determine whether the stock is appreciating or depreciating in value. But skilled chart readers can determine much more by learning how to read stock charts.</p>"
   ]
  },
  {
   "cell_type": "code",
   "execution_count": 5,
   "id": "0507eb26",
   "metadata": {},
   "outputs": [],
   "source": [
    "# Q5. What is the best way to limit the length of a pandas data frame to less than a year?"
   ]
  },
  {
   "cell_type": "markdown",
   "id": "c30c2c2a",
   "metadata": {},
   "source": [
    "<p>Pandas DataFrame is a two-dimensional size-mutable, potentially heterogeneous tabular data structure with labeled axes (rows and columns). Arithmetic operations align on both row and column labels. It can be thought of as a dict-like container for Series objects. This is the primary data structure of the Pandas.</p><p>\n",
    "\n",
    "Pandas DataFrame.truncate() function is used to truncate a Series or DataFrame before and after some index value. This is a useful shorthand for boolean indexing based on index values above or below certain thresholds.</p>"
   ]
  },
  {
   "cell_type": "code",
   "execution_count": 6,
   "id": "255bd757",
   "metadata": {},
   "outputs": [],
   "source": [
    "# Q6. What is the definition of a 180-day moving average?"
   ]
  },
  {
   "cell_type": "markdown",
   "id": "8e11f5bd",
   "metadata": {},
   "source": [
    "<p>Moving averages are widely used in technical analysis, a branch of investing that seeks to understand and profit from the price movement patterns of securities and indices. Generally, technical analysts will use moving averages to detect whether a change in momentum is occurring for a security, such as if there is a sudden downward move in a security's price. Other times, they will use moving averages to confirm their suspicions that a change might be underway. For example, if a company's share price rises above its 200-day moving average, that might be taken as a bullish signal.</p>"
   ]
  },
  {
   "cell_type": "code",
   "execution_count": 7,
   "id": "79bb5e43",
   "metadata": {},
   "outputs": [],
   "source": [
    "# Q7. Did the chapter's final example use \"indirect\" importing? If so, how exactly do you do it?"
   ]
  },
  {
   "cell_type": "markdown",
   "id": "a2e49ad9",
   "metadata": {},
   "source": [
    "<p>us. a situation in which a company buys products from someone in another country using an intermediary (= a person or organization that arranges business agreements), or a product that is bought in this way: The direct or indirect import of diamonds from the country was banned. Some of these goods are indirect imports.</p>"
   ]
  }
 ],
 "metadata": {
  "kernelspec": {
   "display_name": "Python 3 (ipykernel)",
   "language": "python",
   "name": "python3"
  },
  "language_info": {
   "codemirror_mode": {
    "name": "ipython",
    "version": 3
   },
   "file_extension": ".py",
   "mimetype": "text/x-python",
   "name": "python",
   "nbconvert_exporter": "python",
   "pygments_lexer": "ipython3",
   "version": "3.10.1"
  }
 },
 "nbformat": 4,
 "nbformat_minor": 5
}
