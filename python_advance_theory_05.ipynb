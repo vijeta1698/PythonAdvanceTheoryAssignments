{
 "cells": [
  {
   "cell_type": "code",
   "execution_count": 1,
   "id": "e03d78f0",
   "metadata": {},
   "outputs": [],
   "source": [
    "#Q1. What is the meaning of multiple inheritance?"
   ]
  },
  {
   "cell_type": "markdown",
   "id": "de2de1ee",
   "metadata": {},
   "source": [
    "<p>Inheritance is the mechanism to achieve the re-usability of code as one class(child class) can derive the properties of another class(parent class). It also provides transitivity ie. if class C inherits from P then all the sub-classes of C would also inherit from P.</p>\n",
    "<p>When a class is derived from more than one base class it is called multiple Inheritance. The derived class inherits all the features of the base case.</p>\n",
    "<span>Syntax:\n",
    "\n",
    "Class Base1:<br>\n",
    "       Body of the class<br>\n",
    "\n",
    "Class Base2:<br>\n",
    "     Body of the class<br>\n",
    "\n",
    "Class Derived(Base1, Base2):<br>\n",
    "     Body of the class</span>"
   ]
  },
  {
   "cell_type": "code",
   "execution_count": 2,
   "id": "2891e206",
   "metadata": {},
   "outputs": [],
   "source": [
    "#Q2. What is the concept of delegation?"
   ]
  },
  {
   "cell_type": "markdown",
   "id": "d0d6ed6a",
   "metadata": {},
   "source": [
    "Delegation is an object oriented technique (also called a design pattern). Let's say you have an object x and want to change the behaviour of just one of its methods. You can create a new class that provides a new implementation of the method you're interested in changing and delegates all other methods to the corresponding method of x.<br>\n",
    "\n",
    "Python programmers can easily implement delegation. For example, the following class implements a class that behaves like a file but converts all written data to uppercase:<br>\n",
    "\n",
    "class UpperOut:<br>\n",
    "def __init__(self, outfile):<br>\n",
    "self.__outfile = outfile<br>\n",
    "def write(self, s):<br>\n",
    "self.__outfile.write(s.upper())<br>\n",
    "def __getattr__(self, name):<br>\n",
    "return getattr(self.__outfile, name)<br>\n",
    "\n",
    "Here the UpperOut class redefines the write() method to convert the argument string to uppercase before calling the underlying self.__outfile.write() method. All other methods are delegated to the underlying self.__outfile object. The delegation is accomplished via the __getattr__ method; consult the language reference for more information about controlling attribute access.<br>\n",
    "\n",
    "Note that for more general cases delegation can get trickier. When attributes must be set as well as retrieved, the class must define a __settattr__ method too, and it must do so carefully. The basic implementation of __setattr__ is roughly equivalent to the following:<br>\n",
    "\n",
    "class X:<br>\n",
    "...<br>\n",
    "def __setattr__(self, name, value):<br>\n",
    "self.__dict__[name] = value<br>\n",
    "...<br>\n",
    "\n",
    "Most __setattr__ implementations must modify self.__dict__ to store local state for self without causing an infinite recursion."
   ]
  },
  {
   "cell_type": "code",
   "execution_count": 3,
   "id": "0683b3ca",
   "metadata": {},
   "outputs": [],
   "source": [
    "#Q3. What is the concept of composition?"
   ]
  },
  {
   "cell_type": "markdown",
   "id": "ca047b44",
   "metadata": {},
   "source": [
    "<p>Composition is a concept that models a has a relationship. It enables creating complex types by combining objects of other types. This means that a class Composite can contain an object of another class Component. This relationship means that a Composite has a Component.</p>\n",
    "<p>Composition is represented through a line with a diamond at the composite class pointing to the component class. The composite side can express the cardinality of the relationship. The cardinality indicates the number or valid range of Component instances the Composite class will contain.</p>\n",
    "<p>Composition enables you to reuse code by adding objects to other objects, as opposed to inheriting the interface and implementation of other classes. Both Horse and Dog classes can leverage the functionality of Tail through composition without deriving one class from the other.</p>"
   ]
  },
  {
   "cell_type": "code",
   "execution_count": 4,
   "id": "b9e15733",
   "metadata": {},
   "outputs": [],
   "source": [
    "#Q4. What are bound methods and how do we use them?"
   ]
  },
  {
   "cell_type": "markdown",
   "id": "e02e2676",
   "metadata": {},
   "source": [
    "<p>A bound method is the one which is dependent on the instance of the class as the first argument. It passes the instance as the first argument which is used to access the variables and functions. In Python 3 and newer versions of python, all functions in the class are by default bound methods.</p>\n",
    "<p>If a function is an attribute of class and it is accessed via the instances, they are called bound methods. A bound method is one that has ‘self‘ as its first argument. Since these are dependent on the instance of classes, these are also known as instance methods.</p><p>\n",
    "\n",
    "Need for these bound methods\n",
    "The methods inside the classes would take at least one argument. To make them zero-argument methods, ‘decorators‘ has to be used. Different instances of a class have different values associated with them.\n",
    "</p><p>\n",
    "For example, if there is a class “Fruits”, and instances like apple, orange, mango are possible. Each instance may have different size, color, taste, and nutrients in it. Thus to alter any value for a specific instance, the method must have ‘self’ as an argument that allows it to alter only its property.</p>\n",
    "<span>\n",
    "    class sample(object):\n",
    "\n",
    "    objectNo = 0\n",
    "  \n",
    "    def __init__(self, name1):\n",
    "  \n",
    "        self.name = name1\n",
    "  \n",
    "        sample.objectNo = sample.objectNo + 1\n",
    "  \n",
    "        self.objNumber = sample.objectNo\n",
    "  \n",
    "    def myFunc(self):\n",
    "        print(\"My name is \", self.name, \n",
    "              \"from object \", self.objNumber)\n",
    "  \n",
    "    def alterIt(self, newName):\n",
    "        self.name = newName\n",
    "  \n",
    "    def myFunc2():\n",
    "        print(\"I am not a bound method !!!\")\n",
    "  \n",
    "      \n",
    "samp1 = sample(\"A\")<br>\n",
    "samp1.myFunc()   <br>\n",
    "samp2 = sample(\"B\")<br>\n",
    "samp2.myFunc()<br>\n",
    "samp2.alterIt(\"C\")<br>\n",
    "samp2.myFunc()<br>\n",
    "samp1.myFunc()</span>\n",
    "\n",
    "<b>Output:</b>\n",
    "\n",
    "My name is  A from object  1<br>\n",
    "My name is  B from object  2<br>\n",
    "My name is  C from object  2<br>\n",
    "My name is  A from object  1<br>\n",
    "<p>\n",
    "In the above example two instances namely samp1 and samp2 are created. Note that when the function alterIt() is applied to the second instance, only that particular instance’s value is changed. The line samp1.myFunc() will be expanded as sample.myFunc(samp1). For this method no explicit argument is required to be passed. The instance samp1 will be passed as argument to the myFunc(). The line samp1.myFunc2() will generate the error :</p>\n",
    "<span>\n",
    "    Traceback (most recent call last):<br>\n",
    "  File \"/home/4f130d34a1a72402e0d26bab554c2cf6.py\", line 26, in <br>\n",
    "    samp1.myFunc2() #----------> error line<br>\n",
    "TypeError: myFunc2() takes 0 positional arguments but 1 was given</span>\n",
    "<p>It means that this method is unbound. It does not accept any instance as an argument. These functions are unbound functions.</p>"
   ]
  },
  {
   "cell_type": "code",
   "execution_count": 5,
   "id": "f37df1f1",
   "metadata": {},
   "outputs": [],
   "source": [
    "#Q5. What is the purpose of pseudoprivate attributes?"
   ]
  },
  {
   "cell_type": "markdown",
   "id": "0a65a8d2",
   "metadata": {},
   "source": [
    "<p>This is sometimes misleadingly called private attributes really, it's just a way to localize a name to the class that created it, and does not prevent access by code outside the class. That is, this feature is mostly intended to avoid namespace collisions in instances, not to restrict access to names in general.</p>\n",
    "<p>Pseudoprivate attributes are also useful in larger frameworks or tools, both to avoid introducing new method names that might accidentally hide definitions elsewhere in the class tree and to reduce the chance of internal methods being replaced by names defined lower in the tree.</p>"
   ]
  },
  {
   "cell_type": "code",
   "execution_count": null,
   "id": "793b0ab9",
   "metadata": {},
   "outputs": [],
   "source": []
  }
 ],
 "metadata": {
  "kernelspec": {
   "display_name": "Python 3 (ipykernel)",
   "language": "python",
   "name": "python3"
  },
  "language_info": {
   "codemirror_mode": {
    "name": "ipython",
    "version": 3
   },
   "file_extension": ".py",
   "mimetype": "text/x-python",
   "name": "python",
   "nbconvert_exporter": "python",
   "pygments_lexer": "ipython3",
   "version": "3.10.1"
  }
 },
 "nbformat": 4,
 "nbformat_minor": 5
}
