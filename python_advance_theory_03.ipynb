{
 "cells": [
  {
   "cell_type": "code",
   "execution_count": 1,
   "id": "78b06a74",
   "metadata": {},
   "outputs": [],
   "source": [
    "#1. What is the concept of an abstract superclass?"
   ]
  },
  {
   "cell_type": "markdown",
   "id": "96448ce8",
   "metadata": {},
   "source": [
    "<p>Abstract Super Class. A common superclass for several subclasses. Factor up common behavior. Define the methods they all respond to. Methods that subclasses should implement are declared abstract.</p>"
   ]
  },
  {
   "cell_type": "code",
   "execution_count": 2,
   "id": "99e17d01",
   "metadata": {},
   "outputs": [],
   "source": [
    "#2. What happens when a class statement's top level contains a basic assignment statement?"
   ]
  },
  {
   "cell_type": "markdown",
   "id": "64ca53ba",
   "metadata": {},
   "source": [
    "<p>An assignment statement evaluates the expression list (remember that this can be a single expression or a comma-separated list, the latter yielding a tuple) and assigns the single resulting object to each of the target lists, from left to right.</p>"
   ]
  },
  {
   "cell_type": "code",
   "execution_count": 3,
   "id": "3be3912a",
   "metadata": {},
   "outputs": [],
   "source": [
    "#3. Why does a class need to manually call a superclass's __init__ method?"
   ]
  },
  {
   "cell_type": "markdown",
   "id": "f9684026",
   "metadata": {},
   "source": [
    "<p>The __init__ method is similar to constructors in C++ and Java . Constructors are used to initialize the object's state. ... It is run as soon as an object of a class is instantiated. The method is useful to do any initialization you want to do with your object.</p>"
   ]
  },
  {
   "cell_type": "code",
   "execution_count": 4,
   "id": "5db11623",
   "metadata": {},
   "outputs": [],
   "source": [
    "#4. How can you augment, instead of completely replacing, an inherited method?"
   ]
  },
  {
   "cell_type": "markdown",
   "id": "75aa7c68",
   "metadata": {},
   "source": [
    "<p>To augment instead of completely replacing an inherited method, redefine it in a subclass, but call back to the superclass version of the method manually from the new version of the method in the subclass. That is, pass the self instance to the superclass version of the method menually: superclass.method(self,...)</p>"
   ]
  },
  {
   "cell_type": "code",
   "execution_count": 5,
   "id": "400ac39c",
   "metadata": {},
   "outputs": [],
   "source": [
    "#5. How is the local scope of a class different from that of a function?"
   ]
  },
  {
   "cell_type": "markdown",
   "id": "284fd4be",
   "metadata": {},
   "source": [
    "<p>Class scope defines the accessibility or visibility of class variables or functions. The term scope is defined as a place where in variable name, function name and typedef are used inside a program.</p>\n",
    "<p>Local (or function) scope is the code block or body of any Python function or lambda expression. This Python scope contains the names that you define inside the function. These names will only be visible from the code of the function.</p>"
   ]
  },
  {
   "cell_type": "code",
   "execution_count": null,
   "id": "9be450f6",
   "metadata": {},
   "outputs": [],
   "source": []
  }
 ],
 "metadata": {
  "kernelspec": {
   "display_name": "Python 3 (ipykernel)",
   "language": "python",
   "name": "python3"
  },
  "language_info": {
   "codemirror_mode": {
    "name": "ipython",
    "version": 3
   },
   "file_extension": ".py",
   "mimetype": "text/x-python",
   "name": "python",
   "nbconvert_exporter": "python",
   "pygments_lexer": "ipython3",
   "version": "3.10.1"
  }
 },
 "nbformat": 4,
 "nbformat_minor": 5
}
