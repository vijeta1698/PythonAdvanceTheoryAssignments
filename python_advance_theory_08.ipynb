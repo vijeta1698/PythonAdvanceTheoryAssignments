{
 "cells": [
  {
   "cell_type": "code",
   "execution_count": 1,
   "id": "f7b80d72",
   "metadata": {},
   "outputs": [],
   "source": [
    "#Q1. What are the two latest user-defined exception constraints in Python 3.X?"
   ]
  },
  {
   "cell_type": "markdown",
   "id": "ad077716",
   "metadata": {},
   "source": [
    "<p>Python throws errors and exceptions when there is a code gone wrong, which may cause the program to stop abruptly. Python also provides an exception handling method with the help of try-except. Some of the standard exceptions which are most frequent include IndexError, ImportError, IOError, ZeroDivisionError, TypeError, and FileNotFoundError. A user can create his own error using the exception class.</p>\n",
    "<b>Creating User-defined Exception</b>\n",
    "<p>Programmers may name their own exceptions by creating a new exception class. Exceptions need to be derived from the Exception class, either directly or indirectly. Although not mandatory, most of the exceptions are named as names that end in “Error” similar to the naming of the standard exceptions in python. For example: </p>\n",
    "<span>\n",
    "class MyError(Exception):\n",
    " \n",
    "    def __init__(self, value):\n",
    "        self.value = value\n",
    " \n",
    "    def __str__(self):\n",
    "        return(repr(self.value))\n",
    " \n",
    "try:\n",
    "    raise(MyError(3*2))\n",
    " \n",
    "except MyError as error:\n",
    "    print('A New Exception occured: ',error.value)\n",
    "</span>\n",
    "<br><b>Output : ('A New Exception occured: ', 6)</b>"
   ]
  },
  {
   "cell_type": "code",
   "execution_count": 2,
   "id": "b15cc566",
   "metadata": {},
   "outputs": [],
   "source": [
    "#Q2. How are class-based exceptions that have been raised matched to handlers?"
   ]
  },
  {
   "cell_type": "markdown",
   "id": "fd9e708c",
   "metadata": {},
   "source": [
    "<p>The code can run built in exceptions, or we can also raise these exceptions in the code. User can derive their own exception from the Exception class, or from any other child class of Exception class.\n",
    "</p><p>\n",
    "The BaseException is the base class of all other exceptions. User defined classes cannot be directly derived from this class, to derive user defied class, we need to use Exception class.</p>"
   ]
  },
  {
   "cell_type": "code",
   "execution_count": 3,
   "id": "1cab1bbe",
   "metadata": {},
   "outputs": [],
   "source": [
    "#Q3. Describe two methods for attaching context information to exception artefacts."
   ]
  },
  {
   "cell_type": "markdown",
   "id": "04bcbab4",
   "metadata": {},
   "source": [
    "<p>As contents of an Argument can vary depending upon different types of Exceptions in Python, Variables can be supplied to the Exceptions to capture the essence of the encountered errors. Same error can occur of different causes, Arguments helps us identify the specific cause for an error using the except clause.</p>"
   ]
  },
  {
   "cell_type": "code",
   "execution_count": 4,
   "id": "cab38bdd",
   "metadata": {},
   "outputs": [],
   "source": [
    "#Q4. Describe two methods for specifying the text of an exception object's error message."
   ]
  },
  {
   "cell_type": "markdown",
   "id": "0d2f378a",
   "metadata": {},
   "source": [
    "<p>If you look at the built-in errors, you'll see that most Exception classes assign their first argument as a message attribute. Not all of them do though.</p>\n",
    "<p>Notably,EnvironmentError (with subclasses IOError and OSError) has a first argument of errno, second of strerror. There is no message... strerror is roughly analogous to what would normally be a message.</p>\n",
    "<p>More generally, subclasses of Exception can do whatever they want. They may or may not have a message attribute. Future built-in Exceptions may not have a message attribute. Any Exception subclass imported from third-party libraries or user code may not have a message attribute.</p>\n",
    "<p>I think the proper way of handling this is to identify the specific Exception subclasses you want to catch, and then catch only those instead of everything with an except Exception, then utilize whatever attributes that specific subclass defines however you want.</p>\n",
    "<p>If you must print something, I think that printing the caught Exception itself is most likely to do what you want, whether it has a message attribute or not.</p>\n",
    "<p>You could also check for the message attribute if you wanted, like this, but I wouldn't really suggest it as it just seems messy:</p>\n",
    "<span>try:\n",
    "    pass\n",
    "except Exception as e:\n",
    "    # Just print(e) is cleaner and more likely what you want,\n",
    "    # but if you insist on printing message specifically whenever possible...\n",
    "    if hasattr(e, 'message'):\n",
    "        print(e.message)\n",
    "    else:\n",
    "        print(e)</span>"
   ]
  },
  {
   "cell_type": "code",
   "execution_count": 5,
   "id": "d9a8c005",
   "metadata": {},
   "outputs": [],
   "source": [
    "#Q5. Why do you no longer use string-based exceptions?"
   ]
  },
  {
   "cell_type": "markdown",
   "id": "7ae69496",
   "metadata": {},
   "source": [
    "<p>Prior to Python 1.5 alpha 4, Python's standard exceptions (IOError, TypeError, etc.) were defined as strings. ... Because it is possible (although unlikely) that this change broke existing code, the Python interpreter can be invoked the command line option -X to disable this feature, and use string exceptions like before.</p>"
   ]
  },
  {
   "cell_type": "code",
   "execution_count": null,
   "id": "7f1b85c9",
   "metadata": {},
   "outputs": [],
   "source": []
  }
 ],
 "metadata": {
  "kernelspec": {
   "display_name": "Python 3 (ipykernel)",
   "language": "python",
   "name": "python3"
  },
  "language_info": {
   "codemirror_mode": {
    "name": "ipython",
    "version": 3
   },
   "file_extension": ".py",
   "mimetype": "text/x-python",
   "name": "python",
   "nbconvert_exporter": "python",
   "pygments_lexer": "ipython3",
   "version": "3.10.1"
  }
 },
 "nbformat": 4,
 "nbformat_minor": 5
}
