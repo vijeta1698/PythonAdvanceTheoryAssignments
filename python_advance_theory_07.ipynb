{
 "cells": [
  {
   "cell_type": "code",
   "execution_count": 1,
   "id": "65e04ebe",
   "metadata": {},
   "outputs": [],
   "source": [
    "#Q1. What is the purpose of the try statement?"
   ]
  },
  {
   "cell_type": "markdown",
   "id": "8eda4e89",
   "metadata": {},
   "source": [
    "First, the try clause is executed i.e. the code between try and except clause.<br>\n",
    "If there is no exception, then only the try clause will run, except the clause is finished.<br>\n",
    "If any exception occurs, the try clause will be skipped and except clause will run.<br>\n",
    "If any exception occurs, but the except clause within the code doesn’t handle it, it is passed on to the outer try statements. <br>If the exception is left unhandled, then the execution stops.\n",
    "A try statement can have more than one except clause"
   ]
  },
  {
   "cell_type": "code",
   "execution_count": 2,
   "id": "6bccf26c",
   "metadata": {},
   "outputs": [],
   "source": [
    "#Q2. What are the two most popular try statement variations?"
   ]
  },
  {
   "cell_type": "markdown",
   "id": "5efd1062",
   "metadata": {},
   "source": [
    "<p>Error in Python can be of two types i.e. Syntax errors and Exceptions. Errors are the problems in a program due to which the program will stop the execution. On the other hand, exceptions are raised when some internal events occur which changes the normal flow of the program.</p>\n",
    "<p>Note: For more information, refer to Errors and Exceptions in Python</p>\n",
    "Two of the common Exception Errors are : <p>\n",
    "    IOError: if the file can't be opened.<br>\n",
    "    KeyboardInterrupt: when an unrequired key is pressed by the user.<br>"
   ]
  },
  {
   "cell_type": "code",
   "execution_count": 3,
   "id": "882920f4",
   "metadata": {},
   "outputs": [],
   "source": [
    "#Q3. What is the purpose of the raise statement?"
   ]
  },
  {
   "cell_type": "markdown",
   "id": "76af55eb",
   "metadata": {},
   "source": [
    "<p>Python raise Keyword is used to raise exceptions or errors. The raise keyword raises an error and stops the control flow of the program. It is used to bring up the current exception in an exception handler so that it can be handled further up the call stack.</p>"
   ]
  },
  {
   "cell_type": "code",
   "execution_count": 4,
   "id": "bc5b3ff4",
   "metadata": {},
   "outputs": [],
   "source": [
    "#Q4. What does the assert statement do, and what other statement is it like?"
   ]
  },
  {
   "cell_type": "markdown",
   "id": "f03a2e3f",
   "metadata": {},
   "source": [
    "<p>An assert statement checks whether a condition is true. If a condition evaluates to True, a program will keep running. If a condition is false, the program will return an AssertionError. At this point, the program will stop executing.</p>\n",
    "<p>\n",
    "<p>In Python, assert is a keyword. This means that you will see the assert keyword appear in a special color when you use it. It uses the following syntax:</p>\n",
    "<b>assert condition, message</b>\n",
    "<span>Here are the two parameters assert can take in:</span>\n",
    "<ul>\n",
    "    <li><b>condition</b>: the condition for which you want to test (required)</li>\n",
    "    <li><b>message</b>: the message you want to display upon execution of the assert statement (optional)</li>\n",
    "</ul>"
   ]
  },
  {
   "cell_type": "code",
   "execution_count": 5,
   "id": "25f16331",
   "metadata": {},
   "outputs": [],
   "source": [
    "#Q5. What is the purpose of the with/as argument, and what other statement is it like?"
   ]
  },
  {
   "cell_type": "markdown",
   "id": "3804bd64",
   "metadata": {},
   "source": [
    "<p>with statement in Python is used in exception handling to make the code cleaner and much more readable. It simplifies the management of common resources like file streams. Observe the following code example on how the use of with statement makes code cleaner.</p>"
   ]
  },
  {
   "cell_type": "code",
   "execution_count": null,
   "id": "b1aa083a",
   "metadata": {},
   "outputs": [],
   "source": []
  }
 ],
 "metadata": {
  "kernelspec": {
   "display_name": "Python 3 (ipykernel)",
   "language": "python",
   "name": "python3"
  },
  "language_info": {
   "codemirror_mode": {
    "name": "ipython",
    "version": 3
   },
   "file_extension": ".py",
   "mimetype": "text/x-python",
   "name": "python",
   "nbconvert_exporter": "python",
   "pygments_lexer": "ipython3",
   "version": "3.10.1"
  }
 },
 "nbformat": 4,
 "nbformat_minor": 5
}
