{
 "cells": [
  {
   "cell_type": "code",
   "execution_count": 1,
   "id": "c55836c1",
   "metadata": {},
   "outputs": [],
   "source": [
    "#Q1. What is the relationship between classes and modules?"
   ]
  },
  {
   "cell_type": "markdown",
   "id": "09586079",
   "metadata": {},
   "source": [
    "<p>A class can have its own instance, but a module cannot be instantiated. We use the ‘class’ keyword to define a class, whereas to use modules, we use the ‘import’ keyword. We can inherit a particular class and modify it using inheritance. But while using modules, it is simply a code containing variables, functions, and classes.</p><p>\n",
    "\n",
    "Modules are files present inside a package, whereas a class is used to encapsulate data and functions together inside the same unit.</p>"
   ]
  },
  {
   "cell_type": "code",
   "execution_count": 2,
   "id": "d604f9be",
   "metadata": {},
   "outputs": [],
   "source": [
    "#Q2. How do you make instances and classes?"
   ]
  },
  {
   "cell_type": "markdown",
   "id": "225168ca",
   "metadata": {},
   "source": [
    "<strong>Creating Classes</strong>\n",
    "<p>The class statement creates a new class definition. The name of the class immediately follows the keyword class followed by a colon as follows −</p>\n",
    "\n",
    "<pre class=\"result notranslate\">class ClassName:\n",
    "   'Optional class documentation string'\n",
    "   class_suite\n",
    "</pre>\n",
    "<p>The class has a documentation string, which can be accessed via ClassName.__doc__.</p>\n",
    "\n",
    "<p>The class_suite consists of all the component statements defining class members, data attributes and functions.</p>\n",
    "<pre class=\"prettyprint notranslate prettyprinted\"  style=\"background:#efefef; padding:10px;\"><span class=\"kwd\">class</span><span class=\"pln\"> </span><span class=\"typ\">Employee</span><span class=\"pun\">:</span><span class=\"pln\">\n",
    "   </span><span class=\"str\">'Common base class for all employees'</span><span class=\"pln\">\n",
    "   empCount </span><span class=\"pun\">=</span><span class=\"pln\"> </span><span class=\"lit\">0</span><span class=\"pln\">\n",
    "\n",
    "   </span><span class=\"kwd\">def</span><span class=\"pln\"> __init__</span><span class=\"pun\">(</span><span class=\"kwd\">self</span><span class=\"pun\">,</span><span class=\"pln\"> name</span><span class=\"pun\">,</span><span class=\"pln\"> salary</span><span class=\"pun\">):</span><span class=\"pln\">\n",
    "      </span><span class=\"kwd\">self</span><span class=\"pun\">.</span><span class=\"pln\">name </span><span class=\"pun\">=</span><span class=\"pln\"> name\n",
    "      </span><span class=\"kwd\">self</span><span class=\"pun\">.</span><span class=\"pln\">salary </span><span class=\"pun\">=</span><span class=\"pln\"> salary\n",
    "      </span><span class=\"typ\">Employee</span><span class=\"pun\">.</span><span class=\"pln\">empCount </span><span class=\"pun\">+=</span><span class=\"pln\"> </span><span class=\"lit\">1</span><span class=\"pln\">\n",
    "   \n",
    "   </span><span class=\"kwd\">def</span><span class=\"pln\"> displayCount</span><span class=\"pun\">(</span><span class=\"kwd\">self</span><span class=\"pun\">):</span><span class=\"pln\">\n",
    "     </span><span class=\"kwd\">print</span><span class=\"pln\"> </span><span class=\"str\">\"Total Employee %d\"</span><span class=\"pln\"> </span><span class=\"pun\">%</span><span class=\"pln\"> </span><span class=\"typ\">Employee</span><span class=\"pun\">.</span><span class=\"pln\">empCount\n",
    "\n",
    "   </span><span class=\"kwd\">def</span><span class=\"pln\"> displayEmployee</span><span class=\"pun\">(</span><span class=\"kwd\">self</span><span class=\"pun\">):</span><span class=\"pln\">\n",
    "      </span><span class=\"kwd\">print</span><span class=\"pln\"> </span><span class=\"str\">\"Name : \"</span><span class=\"pun\">,</span><span class=\"pln\"> </span><span class=\"kwd\">self</span><span class=\"pun\">.</span><span class=\"pln\">name</span><span class=\"pun\">,</span><span class=\"pln\">  </span><span class=\"str\">\", Salary: \"</span><span class=\"pun\">,</span><span class=\"pln\"> </span><span class=\"kwd\">self</span><span class=\"pun\">.</span><span class=\"pln\">salary</span></pre>\n",
    "\n",
    "<br>\n",
    "<strong>Creating Instance Objects</strong><p>\n",
    "To create instances of a class, you call the class using class name and pass in whatever arguments its __init__ method accepts.</p>\n",
    "<pre class=\"result notranslate\">\"This would create first object of Employee class\"\n",
    "emp1 = Employee(\"Zara\", 2000)\n",
    "\"This would create second object of Employee class\"\n",
    "emp2 = Employee(\"Manni\", 5000)\n",
    "</pre>"
   ]
  },
  {
   "cell_type": "code",
   "execution_count": 4,
   "id": "85eb1fdb",
   "metadata": {},
   "outputs": [],
   "source": [
    "#Q3. Where and how should be class attributes created?"
   ]
  },
  {
   "cell_type": "markdown",
   "id": "ac121268",
   "metadata": {},
   "source": [
    "<p>Class attributes belong to the class itself they will be shared by all the instances. Such attributes are defined in the class body parts usually at the top, for legibility.</p>\n",
    "<div style=\"background:#efefef; padding:10px;\"><p>\n",
    "<br>\n",
    "<p style=\"color:green;\"># Write Python code here</p>\n",
    "    \n",
    "\n",
    "class sampleclass:\n",
    "    count = 0     <span style=\"color:green;\"># class attribute</span>\n",
    "  \n",
    "    def increase(self):\n",
    "        sampleclass.count += 1\n",
    "  \n",
    "<p style=\"color:green;\"># Calling increase() on an object</p>\n",
    "s1 = sampleclass()\n",
    "s1.increase()        \n",
    "print(s1.count)\n",
    "<p style=\"color:green;\"># Calling increase on one more</p>\n",
    "<p style=\"color:green;\"># object</p>\n",
    "s2 = sampleclass()\n",
    "s2.increase()\n",
    "print(s2.count)\n",
    "  \n",
    "print(sampleclass.count)\n",
    "</div>"
   ]
  },
  {
   "cell_type": "code",
   "execution_count": 5,
   "id": "0c91bced",
   "metadata": {},
   "outputs": [],
   "source": [
    "#Q4. Where and how are instance attributes created?"
   ]
  },
  {
   "cell_type": "markdown",
   "id": "5df0e7e8",
   "metadata": {},
   "source": [
    "<p>An instance attribute is a Python variable belonging to only one object. It is only accessible in the scope of the object and it is defined inside the constructor function of a class. For example, __init__(self,..).</p>"
   ]
  },
  {
   "cell_type": "code",
   "execution_count": 6,
   "id": "c2122598",
   "metadata": {},
   "outputs": [],
   "source": [
    "#Q5. What does the term \"self\" in a Python class mean?"
   ]
  },
  {
   "cell_type": "markdown",
   "id": "e8902b99",
   "metadata": {},
   "source": [
    "<p>self represents the instance of the class. By using the “self” keyword we can access the attributes and methods of the class in python. It binds the attributes with the given arguments.\n",
    "The reason you need to use self. is because Python does not use the @ syntax to refer to instance attributes. Python decided to do methods in a way that makes the instance to which the method belongs be passed automatically, but not received automatically: the first parameter of methods is the instance the method is called on.</p>"
   ]
  },
  {
   "cell_type": "code",
   "execution_count": 7,
   "id": "2da0c681",
   "metadata": {},
   "outputs": [],
   "source": [
    "#Q6. How does a Python class handle operator overloading?"
   ]
  },
  {
   "cell_type": "markdown",
   "id": "6d25d1d6",
   "metadata": {},
   "source": [
    "<p>Operator Overloading means giving extended meaning beyond their predefined operational meaning. For example operator + is used to add two integers as well as join two strings and merge two lists. It is achievable because ‘+’ operator is overloaded by int class and str class. You might have noticed that the same built-in operator or function shows different behavior for objects of different classes, this is called Operator Overloading. </p>\n"
   ]
  },
  {
   "cell_type": "code",
   "execution_count": 8,
   "id": "7a9296a8",
   "metadata": {},
   "outputs": [],
   "source": [
    "#Q7. When do you consider allowing operator overloading of your classes?"
   ]
  },
  {
   "cell_type": "markdown",
   "id": "0d747cae",
   "metadata": {},
   "source": [
    "<p>Operator overloading facilitates the specification of user-defined implementation for operations wherein one or both operands are of user-defined class or structure type. This helps user-defined types to behave much like the fundamental primitive data types.</p>"
   ]
  },
  {
   "cell_type": "code",
   "execution_count": 9,
   "id": "ead95ad8",
   "metadata": {},
   "outputs": [],
   "source": [
    "#Q8. What is the most popular form of operator overloading?"
   ]
  },
  {
   "cell_type": "markdown",
   "id": "65fd45df",
   "metadata": {},
   "source": [
    "<p>A very popular and convenient example is the Addition (+) operator. Just think how the '+' operator operates on two numbers and the same operator operates on two strings. It performs “Addition” on numbers whereas it performs “Concatenation” on strings.</p>"
   ]
  },
  {
   "cell_type": "code",
   "execution_count": 10,
   "id": "449489bb",
   "metadata": {},
   "outputs": [],
   "source": [
    "#Q9. What are the two most important concepts to grasp in order to comprehend Python OOP code?"
   ]
  },
  {
   "cell_type": "markdown",
   "id": "59383d2e",
   "metadata": {},
   "source": [
    "<p>A class is a user-defined blueprint or prototype from which objects are created. Classes provide a means of bundling data and functionality together. Creating a new class creates a new type of object, allowing new instances of that type to be made. Each class instance can have attributes attached to it for maintaining its state. Class instances can also have methods (defined by their class) for modifying their state.</p>\n",
    "\n",
    "<p>To understand the need for creating a class let’s consider an example, let’s say you wanted to track the number of dogs that may have different attributes like breed, age. If a list is used, the first element could be the dog’s breed while the second element could represent its age. Let’s suppose there are 100 different dogs, then how would you know which element is supposed to be which? What if you wanted to add other properties to these dogs? This lacks organization and it’s the exact need for classes. </p>\n",
    "\n",
    "<p>Class creates a user-defined data structure, which holds its own data members and member functions, which can be accessed and used by creating an instance of that class. A class is like a blueprint for an object.</p>\n",
    "\n",
    "<p>Some points on Python class: </p> \n",
    "\n",
    "<p>Classes are created by keyword class.</p>\n",
    "<p>Attributes are the variables that belong to a class.</p>\n",
    "<p>Attributes are always public and can be accessed using the dot (.) operator. Eg.: Myclass.Myattribute</p>\n",
    "<br>\n",
    "<p>An Object is an instance of a Class. A class is like a blueprint while an instance is a copy of the class with actual values. It’s not an idea anymore, it’s an actual dog, like a dog of breed pug who’s seven years old. You can have many dogs to create many different instances, but without the class as a guide, you would be lost, not knowing what information is required.</p>\n",
    "<p>An object consists of : </p>\n",
    "\n",
    "<p>State: It is represented by the attributes of an object. It also reflects the properties of an object.</p>\n",
    "<p>Behavior: It is represented by the methods of an object. It also reflects the response of an object to other objects.</p>\n",
    "<p>Identity: It gives a unique name to an object and enables one object to interact with other objects.</p>"
   ]
  },
  {
   "cell_type": "code",
   "execution_count": null,
   "id": "aa665bc3",
   "metadata": {},
   "outputs": [],
   "source": []
  }
 ],
 "metadata": {
  "kernelspec": {
   "display_name": "Python 3 (ipykernel)",
   "language": "python",
   "name": "python3"
  },
  "language_info": {
   "codemirror_mode": {
    "name": "ipython",
    "version": 3
   },
   "file_extension": ".py",
   "mimetype": "text/x-python",
   "name": "python",
   "nbconvert_exporter": "python",
   "pygments_lexer": "ipython3",
   "version": "3.10.1"
  }
 },
 "nbformat": 4,
 "nbformat_minor": 5
}
