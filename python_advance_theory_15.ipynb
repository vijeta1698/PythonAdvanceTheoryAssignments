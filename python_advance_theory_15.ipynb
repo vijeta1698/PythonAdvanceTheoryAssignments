{
 "cells": [
  {
   "cell_type": "code",
   "execution_count": 1,
   "id": "118f92e0",
   "metadata": {},
   "outputs": [],
   "source": [
    "#1. What are the new features added in Python 3.8 version?"
   ]
  },
  {
   "cell_type": "markdown",
   "id": "39f168ac",
   "metadata": {},
   "source": [
    "<p>1. The walrus operator</p>\n",
    "<p>Assignment expressions have come to Python with the \"walrus\" operator :=. This will enable you to assign values to a variable as part of an expression. The major benefit of this is it saves you some lines of code when you want to use, say, the value of an expression in a subsequent condition.</p>\n",
    "<p>2. Positional-only arguments</p>\n",
    "<p>A special marker, /, can now be used when defining a method's arguments to specify that the functional only accepts positional arguments on the left of the marker. Keyword-only arguments have been available in Python with the * marker in functions, and addition of / marker for positional-only arguments improves the language's consistency and allows for a robust API design.</p>\n",
    "<p>3. f-strings now support \"=\"</p>\n",
    "<p>\n",
    "Python programmers often use \"printf-style\" debugging. In the old days this was pretty verbose:<br>\n",
    "\n",
    "print \"foo=\", foo, \"bar=\", bar<br>\n",
    "f-strings make this a bit nicer:<br>\n",
    "\n",
    "print(f\"foo={foo} bar={bar}\")<br>\n",
    "But you still have to repeat yourself: you have to write out the string \"foo\", and then the expession \"foo\".<br>\n",
    "\n",
    "The = specifier, used as f'{expr=}' expands to the text of the expression, an equal sign, then the repr of the evaluated expression. So now, you can simply write:<br>\n",
    "\n",
    "print(f\"{foo=} {bar=}\")<br>\n",
    "A small step for the language, but a giant leap for everyone who sprinkles print() statements for debugging!<br>\n",
    "</p>\n",
    "<p>4. reversed() now works with dict</p>\n",
    "<p>Since Python 3.7, dictionaries preserve the order of insertion of keys. The reversed() built-in can now be used to access the dictionary in the reverse order of insertion — just like OrderedDict.</p>\n",
    "<p>5. Simplified iterable unpacking for return and yield</p>\n",
    "<p>This unintentional behavior has existed since Python 3.2 which disallowed unpacking iterables without parentheses in return and yield statements.</p>\n",
    "<p>6. New syntax warnings</p>\n",
    "<p>The Python interpreter now throws a SyntaxWarning in some cases when a comma is missed before tuple or list. So when you accidentally do this:</p>\n",
    "\n",
    "<div>\n",
    "    data = [<br>\n",
    "    (1, 2, 3)  # oops, missing comma!<br>\n",
    "    (4, 5, 6)<br>\n",
    "]\n",
    "    </div>\n",
    "<p>Instead of showing TypeError: 'tuple' object is not callable which doesn't really tell you what's wrong, a helpful warning will be shown pointing out that you probably missed a comma. Pretty helpful while debugging!</p>\n",
    "<p>7. Performance improvements</p>\n",
    "<p>This release adds a number of performance speed-ups to the interpreter, following suit from the previous 3.7 release.</p>"
   ]
  },
  {
   "cell_type": "code",
   "execution_count": 2,
   "id": "de58b7e0",
   "metadata": {},
   "outputs": [],
   "source": [
    "#2. What is monkey patching in Python?"
   ]
  },
  {
   "cell_type": "markdown",
   "id": "57c85853",
   "metadata": {},
   "source": [
    "<p>In Python, the term monkey patch only refers to dynamic modifications of a class or module at runtime, which means monkey patch is a piece of Python code that extends or modifies other code at runtime. It is often used to replace or extends a method on the module or class level with a custom implementation.</p>"
   ]
  },
  {
   "cell_type": "code",
   "execution_count": 3,
   "id": "8cfca505",
   "metadata": {},
   "outputs": [],
   "source": [
    "#3. What is the difference between a shallow copy and deep copy?"
   ]
  },
  {
   "cell_type": "markdown",
   "id": "77577496",
   "metadata": {},
   "source": [
    "<p><b>Shallow Copy</b>: Shallow repetition is quicker. However, it’s “lazy” it handles pointers and references. Rather than creating a contemporary copy of the particular knowledge the pointer points to, it simply copies over the pointer price. So, each the first and therefore the copy can have pointers that reference constant underlying knowledge.\n",
    "</p><p>\n",
    "    <b>Deep Copy</b>: Deep repetition truly clones the underlying data. It is not shared between the first and therefore the copy.</p>"
   ]
  },
  {
   "cell_type": "code",
   "execution_count": 4,
   "id": "9a2f60a4",
   "metadata": {},
   "outputs": [],
   "source": [
    "#4. What is the maximum possible length of an identifier?"
   ]
  },
  {
   "cell_type": "markdown",
   "id": "41ad558c",
   "metadata": {},
   "source": [
    "79 characters"
   ]
  },
  {
   "cell_type": "code",
   "execution_count": 5,
   "id": "01686618",
   "metadata": {},
   "outputs": [],
   "source": [
    "#5. What is generator comprehension?"
   ]
  },
  {
   "cell_type": "markdown",
   "id": "880f0671",
   "metadata": {},
   "source": [
    "<p>A generator comprehension is a single-line specification for defining a generator in Python. It is absolutely essential to learn this syntax in order to write simple and readable code. Note: Generator comprehensions are not the only method for defining generators in Python.</p>"
   ]
  }
 ],
 "metadata": {
  "kernelspec": {
   "display_name": "Python 3 (ipykernel)",
   "language": "python",
   "name": "python3"
  },
  "language_info": {
   "codemirror_mode": {
    "name": "ipython",
    "version": 3
   },
   "file_extension": ".py",
   "mimetype": "text/x-python",
   "name": "python",
   "nbconvert_exporter": "python",
   "pygments_lexer": "ipython3",
   "version": "3.10.1"
  }
 },
 "nbformat": 4,
 "nbformat_minor": 5
}
