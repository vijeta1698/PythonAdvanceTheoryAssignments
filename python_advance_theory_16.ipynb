{
 "cells": [
  {
   "cell_type": "code",
   "execution_count": 1,
   "id": "b16db16d",
   "metadata": {},
   "outputs": [],
   "source": [
    "# Q1. What is the benefit of regular expressions?"
   ]
  },
  {
   "cell_type": "markdown",
   "id": "8700538d",
   "metadata": {},
   "source": [
    "<p>A Regular Expression is used for identifying a search pattern in a text string. It also helps in finding out the correctness of the data and even operations such as finding, replacing and formatting the data is possible using Regular Expressions.</p>"
   ]
  },
  {
   "cell_type": "code",
   "execution_count": 2,
   "id": "82515ea1",
   "metadata": {},
   "outputs": [],
   "source": [
    "# Q2. Describe the difference between the effects of \"(ab)c+\" and \"a(bc)+.\" Which of these, if any, is the\n",
    "# unqualified pattern \"abc+\"?"
   ]
  },
  {
   "cell_type": "markdown",
   "id": "cccc5866",
   "metadata": {},
   "source": []
  },
  {
   "cell_type": "code",
   "execution_count": 3,
   "id": "b5709a75",
   "metadata": {},
   "outputs": [],
   "source": [
    "#Q3. How much do you need to use the following sentence while using regular expressions? import re"
   ]
  },
  {
   "cell_type": "markdown",
   "id": "c789989b",
   "metadata": {},
   "source": [
    "<p>Wherever we want to use the regular expression in python first we need to import the regular expression. So at the top of the file we will write the import statement \"import re\".</p>"
   ]
  },
  {
   "cell_type": "code",
   "execution_count": 4,
   "id": "30c77a0b",
   "metadata": {},
   "outputs": [],
   "source": [
    "# Q4. Which characters have special significance in square brackets when expressing a range, and\n",
    "# under what circumstances?"
   ]
  },
  {
   "cell_type": "markdown",
   "id": "8390d2fe",
   "metadata": {},
   "source": [
    "<p>Square brackets ([ ]) designate a character class and match a single character in the string. Inside a character class, only the character class metacharacters (backslash, circumflex anchor and hyphen) have special meaning.</p>\n",
    "\n",
    "<p>You must use a backslash when you use character class metacharacters as literals inside a character class only. Square brackets that are used as literals must always be escaped with backslash, both inside and outside a character class.</p>"
   ]
  },
  {
   "cell_type": "code",
   "execution_count": 5,
   "id": "1e477175",
   "metadata": {},
   "outputs": [],
   "source": [
    "# Q5. How does compiling a regular-expression object benefit you?"
   ]
  },
  {
   "cell_type": "markdown",
   "id": "c6341205",
   "metadata": {},
   "source": [
    "<p><b>The re. compile() method</b></p>\n",
    "<p>We can combine a regular expression pattern into pattern objects, which can be used for pattern matching. It also helps to search a pattern again without rewriting it.</p>"
   ]
  },
  {
   "cell_type": "code",
   "execution_count": 6,
   "id": "75b94251",
   "metadata": {},
   "outputs": [],
   "source": [
    "# Q6. What are some examples of how to use the match object returned by re.match and re.search?"
   ]
  },
  {
   "cell_type": "code",
   "execution_count": 7,
   "id": "a0e3bb33",
   "metadata": {},
   "outputs": [
    {
     "name": "stdout",
     "output_type": "stream",
     "text": [
      "Search successful.\n"
     ]
    }
   ],
   "source": [
    "import re\n",
    "\n",
    "pattern = '^a...s$'\n",
    "test_string = 'abyss'\n",
    "result = re.match(pattern, test_string)\n",
    "\n",
    "if result:\n",
    "  print(\"Search successful.\")\n",
    "else:\n",
    "  print(\"Search unsuccessful.\")\t"
   ]
  },
  {
   "cell_type": "code",
   "execution_count": 8,
   "id": "5959c549",
   "metadata": {},
   "outputs": [],
   "source": [
    "# Q7. What is the difference between using a vertical bar (|) as an alteration and using square brackets\n",
    "# as a character set?"
   ]
  },
  {
   "cell_type": "markdown",
   "id": "cc773e8a",
   "metadata": {},
   "source": [
    "<p>The vertical bar is a regex \"or\" means \"a or b\" Character class is a shorthand for \"or\". From this explanation. If you want to match an a or an e use [ae] You can also use hyphen to specify a range such as [0-9] or [a-e]</p>\n",
    "<p> And this \"|\" is used for \"Or\".</p>"
   ]
  },
  {
   "cell_type": "code",
   "execution_count": 9,
   "id": "e008c7eb",
   "metadata": {},
   "outputs": [],
   "source": [
    "# Q8. In regular-expression search patterns, why is it necessary to use the raw-string indicator (r)? In  \n",
    "# replacement strings?"
   ]
  },
  {
   "cell_type": "markdown",
   "id": "56ad5247",
   "metadata": {},
   "source": [
    "<p>The solution is to use Python's raw string notation for regular expression patterns; backslashes are not handled in any special way in a string literal prefixed with 'r' . So r\"\\n\" is a two-character string containing '\\' and 'n' , while \"\\n\" is a one-character string containing a newline.</p>"
   ]
  }
 ],
 "metadata": {
  "kernelspec": {
   "display_name": "Python 3 (ipykernel)",
   "language": "python",
   "name": "python3"
  },
  "language_info": {
   "codemirror_mode": {
    "name": "ipython",
    "version": 3
   },
   "file_extension": ".py",
   "mimetype": "text/x-python",
   "name": "python",
   "nbconvert_exporter": "python",
   "pygments_lexer": "ipython3",
   "version": "3.10.1"
  }
 },
 "nbformat": 4,
 "nbformat_minor": 5
}
