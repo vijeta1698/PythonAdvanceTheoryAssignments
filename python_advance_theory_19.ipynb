{
 "cells": [
  {
   "cell_type": "code",
   "execution_count": 1,
   "id": "2b8dba95",
   "metadata": {},
   "outputs": [],
   "source": [
    "# Q1. Define the relationship between a class and its instances. Is it a one-to-one or a one-to-many\n",
    "# partnership, for example?"
   ]
  },
  {
   "cell_type": "markdown",
   "id": "aa046509",
   "metadata": {},
   "source": [
    "<p>A class is a set of entities, which are called the instances of the class. An entity can be an instance of many classes, which are called its types, and a class can be a type of many classes. ... The relation that holds between a instance and a class is a primitive, akin to set membership.</p>\n",
    "<p>An object is an instance of a class, and may be called a class instance or class object; instantiation is then also known as construction.</p>\n",
    "<p><b>One-to-one Relationship</b></p>\n",
    "<p>Here two objects must have a single/unique relationship with one another. Take for example a Student and Student_profile, two students can’t have the same profile.</p>\n",
    "<p><b>Many-to-many Relationship</b></p>\n",
    "<p>Here 0 or more objects in one model can be related to zero or more objects in another model, Yeah, it’s that simple. Take for example a relationship between a doctor and a patient, a doctor can treat zero or more patients. In the same way, a patient can be treated by 0 or more doctors.</p>"
   ]
  },
  {
   "cell_type": "code",
   "execution_count": 2,
   "id": "e1d6d99e",
   "metadata": {},
   "outputs": [],
   "source": [
    "# Q2. What kind of data is held only in an instance?"
   ]
  },
  {
   "cell_type": "markdown",
   "id": "18bcb21b",
   "metadata": {},
   "source": [
    "<p>What is an Instance Variable in Python? If the value of a variable varies from object to object, then such variables are called instance variables. For every object, a separate copy of the instance variable will be created. Instance variables are not shared by objects.</p>"
   ]
  },
  {
   "cell_type": "code",
   "execution_count": 3,
   "id": "d34a8bde",
   "metadata": {},
   "outputs": [],
   "source": [
    "# Q3. What kind of knowledge is stored in a class?"
   ]
  },
  {
   "cell_type": "markdown",
   "id": "177075bf",
   "metadata": {},
   "source": [
    "<p>Python is an object-oriented programming language</p>\n",
    "<p>\n",
    "It means that programming in Python leads to being surrounded by objects everywhere. In the instant we assign a value to a variable, we are creating an object. This object belongs to a particular class already pre-built, like numbers, strings, lists, dictionaries and so on. Depending on the class, the object will have different properties and methods.<p>"
   ]
  },
  {
   "cell_type": "code",
   "execution_count": 4,
   "id": "75ece15e",
   "metadata": {},
   "outputs": [],
   "source": [
    "# Q4. What exactly is a method, and how is it different from a regular function?"
   ]
  },
  {
   "cell_type": "markdown",
   "id": "bbd85c0e",
   "metadata": {},
   "source": [
    "<p>Method and a function are the same, with different terms. A method is a procedure or function in object-oriented programming. A function is a group of reusable code which can be called anywhere in your program. This eliminates the need for writing the same code again and again.</p>"
   ]
  },
  {
   "cell_type": "code",
   "execution_count": 5,
   "id": "dbff082a",
   "metadata": {},
   "outputs": [],
   "source": [
    "# Q5. Is inheritance supported in Python, and if so, what is the syntax?"
   ]
  },
  {
   "cell_type": "markdown",
   "id": "7252c009",
   "metadata": {},
   "source": [
    "<p>Python not only supports inheritance but multiple inheritance as well. ... Inheritance allows programmers to create classes that are built upon existing classes, and this enables a class created through inheritance to inherit the attributes and methods of the parent class.</p>\n",
    "<p>There are five types of inheritances: Single Inheritance. Multiple Inheritance. Multilevel Inheritance.</p>\n",
    "Inheritance in Python <br>\n",
    "It represents real-world relationships well.<br>\n",
    "It provides reusability of a code. We don't have to write the same code again and again. <br>\n",
    "It is transitive in nature, which means that if class B inherits from another class A, then all the subclasses of B would automatically inherit from class A."
   ]
  },
  {
   "cell_type": "code",
   "execution_count": 6,
   "id": "09c3d56b",
   "metadata": {},
   "outputs": [],
   "source": [
    "# Q6. How much encapsulation (making instance or class variables private) does Python support?"
   ]
  },
  {
   "cell_type": "markdown",
   "id": "45252518",
   "metadata": {},
   "source": [
    "<b>Inheritance in Python</b>\n",
    "It represents real-world relationships well.<br>\n",
    "It provides reusability of a code. We don't have to write the same code again and again. <br>\n",
    "It is transitive in nature, which means that if class B inherits from another class A, then all the subclasses of B would automatically inherit from class A."
   ]
  },
  {
   "cell_type": "code",
   "execution_count": 7,
   "id": "515fa172",
   "metadata": {},
   "outputs": [],
   "source": [
    "# Q7. How do you distinguish between a class variable and an instance variable?"
   ]
  },
  {
   "cell_type": "markdown",
   "id": "2056dca7",
   "metadata": {},
   "source": [
    "<p>Class variables also known as static variables are declared with the static keyword in a class, but outside a method, constructor or a block. Instance variables are created when an object is created with the use of the keyword 'new' and destroyed when the object is destroyed.</p>"
   ]
  },
  {
   "cell_type": "code",
   "execution_count": 8,
   "id": "a4967f63",
   "metadata": {},
   "outputs": [],
   "source": [
    "# Q8. When, if ever, can self be included in a class's method definitions?"
   ]
  },
  {
   "cell_type": "markdown",
   "id": "ad42af63",
   "metadata": {},
   "source": [
    "<p>self represents the instance of the class. By using the “self” keyword we can access the attributes and methods of the class in python. It binds the attributes with the given arguments.\n",
    "The reason you need to use self. is because Python does not use the @ syntax to refer to instance attributes. Python decided to do methods in a way that makes the instance to which the method belongs be passed automatically, but not received automatically: the first parameter of methods is the instance the method is called on.</p>"
   ]
  },
  {
   "cell_type": "code",
   "execution_count": 9,
   "id": "9cb39a03",
   "metadata": {},
   "outputs": [],
   "source": [
    "# Q9. What is the difference between the _ _add_ _ and the _ _radd_ _ methods?"
   ]
  },
  {
   "cell_type": "markdown",
   "id": "ec042c03",
   "metadata": {},
   "source": [
    "<p>object.__add__(self, other) Python's object. __add__(self, other) method returns a new object that represents the sum of two objects. It implements the addition operator + in Python. We call this a “Dunder Method” for “Double Underscore Method” (also called “magic method”).</p>\n",
    "<p>he radd() method adds each value in the DataFrame with a specified value.</p><p>\n",
    "\n",
    "This method is called reverse add, and is similar to the add() method, but instead of calculating 100 + 15 it calculates 15 + 100, which in this case will give the same result.</p><p>\n",
    "\n",
    "The specified value must be an object that can be added to the values of the DataFrame. It can be a constant number like the one in the example, or it can be a list-like object like a list [15, 20] or a tuple {\"points\": 380, \"total\": 22}, or a  Pandas Series or another DataFrame, that fits with the original DataFrame.</p>"
   ]
  },
  {
   "cell_type": "code",
   "execution_count": 10,
   "id": "f3ea1c75",
   "metadata": {},
   "outputs": [],
   "source": [
    "# Q10. When is it necessary to use a reflection method? When do you not need it, even though you\n",
    "# support the operation in question?"
   ]
  },
  {
   "cell_type": "markdown",
   "id": "115b02f2",
   "metadata": {},
   "source": [
    "<p>Reflection refers to the ability for code to be able to examine attributes about objects that might be passed as parameters to a function. For example, if we write type(obj) then Python will return an object which represents the type of obj.</p>\n",
    "<p>\n",
    "Reflecting helps you to develop your skills and review their effectiveness, rather than just carry on doing things as you have always done them. It is about questioning, in a positive way, what you do and why you do it and then deciding whether there is a better, or more efficient, way of doing it in the future.</p>"
   ]
  },
  {
   "cell_type": "code",
   "execution_count": 11,
   "id": "8cf756c3",
   "metadata": {},
   "outputs": [],
   "source": [
    "# Q11. What is the _ _iadd_ _ method called?"
   ]
  },
  {
   "cell_type": "markdown",
   "id": "cc172603",
   "metadata": {},
   "source": [
    "So the main difference between __add__ and __iadd__ is that __iadd__ is actually storing that value its adding into the self.value.\n",
    "\n",
    "Example: If this is my class.\n",
    "\n",
    "class NumString:\n",
    "\n",
    "    def __init__(self, value):\n",
    "        self.value = str(value)\n",
    "\n",
    "    def __int__(self):\n",
    "        return int(self.value)\n",
    "\n",
    "    def __str__(self):\n",
    "        return self.value\n",
    "\n",
    "    def __add__(self, other):\n",
    "        return int(self) + other\n",
    "\n",
    "    def __iadd__(self, other):\n",
    "        self.value = self + other\n",
    "        return self.value\n",
    "Now if I did the following with my class.\n",
    "\n",
    "some_num1 = NumString(0) # Create an instance of NumString with 0 as value.\n",
    "str(some_num1) # Check what is contained within self.value in this instance.\n",
    "#Output: '0'\n",
    "\n",
    "some_num1 + 1 # We add some_num1 to 1, this returns back the calculation using the __add__ method\n",
    "str(some_num1) # check what some_num1 is holding for a self.value\n",
    "#Output: '0'\n",
    "\n",
    "some_num1 += 2 # We in-place add some_num1 to 2, this stores and returns the new stored value using __iadd__ method.\n",
    "str(some_num1) # check what some_num1 is holding now?\n",
    "#Output: '2'\n",
    "Can you see how __iadd__ is storing the calculated value self.value and the __add__ method is just calculating and returning it but NOT storing it."
   ]
  },
  {
   "cell_type": "code",
   "execution_count": 13,
   "id": "3265ce8a",
   "metadata": {},
   "outputs": [],
   "source": [
    "# Q12. Is the _ _init_ _ method inherited by subclasses? What do you do if you need to customize its\n",
    "# behavior within a subclass?"
   ]
  },
  {
   "cell_type": "markdown",
   "id": "56ce28d1",
   "metadata": {},
   "source": [
    "As far as I know that's not possible, however you can call the init method of the superclass, like this:<br><br>\n",
    "\n",
    "class inheritedclass(initialclass):<br>\n",
    "    def __init__(self):<br>\n",
    "        initialclass.__init__(self)<br>\n",
    "        self.attr3 = 'three'"
   ]
  }
 ],
 "metadata": {
  "kernelspec": {
   "display_name": "Python 3 (ipykernel)",
   "language": "python",
   "name": "python3"
  },
  "language_info": {
   "codemirror_mode": {
    "name": "ipython",
    "version": 3
   },
   "file_extension": ".py",
   "mimetype": "text/x-python",
   "name": "python",
   "nbconvert_exporter": "python",
   "pygments_lexer": "ipython3",
   "version": "3.10.1"
  }
 },
 "nbformat": 4,
 "nbformat_minor": 5
}
