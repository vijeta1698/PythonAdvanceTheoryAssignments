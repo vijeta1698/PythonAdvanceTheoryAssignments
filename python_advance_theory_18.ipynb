{
 "cells": [
  {
   "cell_type": "code",
   "execution_count": 1,
   "id": "47e5c53b",
   "metadata": {},
   "outputs": [],
   "source": [
    "# Q1. Describe the differences between text and binary files in a single paragraph."
   ]
  },
  {
   "cell_type": "markdown",
   "id": "86ae3ef1",
   "metadata": {},
   "source": [
    "<p>Binary file contains the data in the form of 0 and 1(series of binary values) and text files contains the data in the form of stream of characters.In general binary files are identified as executable files.But binary files are not in readable form as like text file.</p>"
   ]
  },
  {
   "cell_type": "code",
   "execution_count": 2,
   "id": "957a386f",
   "metadata": {},
   "outputs": [],
   "source": [
    "# Q2. What are some scenarios where using text files will be the better option? When would you like to\n",
    "# use binary files instead of text files?"
   ]
  },
  {
   "cell_type": "markdown",
   "id": "ccb881fd",
   "metadata": {},
   "source": [
    "<p>A binary file is a file that contains information in the same format in which the information is held in memory i.e. in the binary form. ... As a result, binary files are faster and easier for a program to read and write than the text files.</p>\n",
    "<p>One of the advantages of binary files is that they are more efficient. In terms of memory, storing values using numeric formats such as IEEE 754, rather than as text characters, tends to use less memory. In addition, binary formats also offer advantages in terms of speed of access.</p>"
   ]
  },
  {
   "cell_type": "code",
   "execution_count": 3,
   "id": "0858f992",
   "metadata": {},
   "outputs": [],
   "source": [
    "# Q3. What are some of the issues with using binary operations to read and write a Python integer\n",
    "# directly to disc?"
   ]
  },
  {
   "cell_type": "markdown",
   "id": "f59f4a5a",
   "metadata": {},
   "source": [
    "<p>Operators are used to perform operations on values and variables. These are the special symbols that carry out arithmetic and logical computations. The value the operator operates on is known as Operand. </p>\n",
    "<p>In Python, bitwise operators are used to performing bitwise calculations on integers. The integers are first converted into binary and then operations are performed on bit by bit, hence the name bitwise operators. Then the result is returned in decimal format.\n",
    "\n",
    "Note: Python bitwise operators work only on integers.</p>\n",
    "<div>\n",
    "Let’s understand each operator one by one.<br>\n",
    "Bitwise AND operator: Returns 1 if both the bits are 1 else 0.<br>\n",
    "Example: <br>\n",
    "<br>\n",
    "a = 10 = 1010 (Binary)<br>\n",
    "b = 4 =  0100 (Binary)<br>\n",
    "<br>\n",
    "a & b = 1010<br>\n",
    "         &<br>\n",
    "        0100<br>\n",
    "      = 0000<br>\n",
    "      = 0 (Decimal)<br>\n",
    "Bitwise or operator: Returns 1 if either of the bit is 1 else 0.<br>\n",
    "</div>"
   ]
  },
  {
   "cell_type": "code",
   "execution_count": 4,
   "id": "5ca85476",
   "metadata": {},
   "outputs": [],
   "source": [
    "# Q4. Describe a benefit of using the with keyword instead of explicitly opening a file."
   ]
  },
  {
   "cell_type": "markdown",
   "id": "14a43932",
   "metadata": {},
   "source": [
    "<p>Using with means that the file will be closed as soon as you leave the block. This is beneficial because closing a file is something that can easily be forgotten and ties up resources that you no longer need.</p>"
   ]
  },
  {
   "cell_type": "code",
   "execution_count": 5,
   "id": "9a88d421",
   "metadata": {},
   "outputs": [],
   "source": [
    "# Q5. Does Python have the trailing newline while reading a line of text? Does Python append a\n",
    "# newline when you write a line of text?"
   ]
  },
  {
   "cell_type": "markdown",
   "id": "8584bb9f",
   "metadata": {},
   "source": [
    "<p>Python readline() is a file method that helps to read one complete line from the given file. It has a trailing newline (“\\n”) at the end of the string returned. You can also make use of the size parameter to get a specific length of the line.</p>\n",
    "<p>Yes Python append a newline when you write a line of text.</p>"
   ]
  },
  {
   "cell_type": "code",
   "execution_count": 6,
   "id": "1777161b",
   "metadata": {},
   "outputs": [],
   "source": [
    "# Q6. What file operations enable for random-access operation?"
   ]
  },
  {
   "cell_type": "markdown",
   "id": "d74c329a",
   "metadata": {},
   "source": [
    "<p><b>SETTING OFFSETS IN A FILE</b></p>\n",
    "<p>But if we want to access data in a random fashion, then Python gives us seek() and tell() functions to do so.</p>"
   ]
  },
  {
   "cell_type": "code",
   "execution_count": 7,
   "id": "d63f5918",
   "metadata": {},
   "outputs": [],
   "source": [
    "# Q7. When do you think you'll use the struct package the most?"
   ]
  },
  {
   "cell_type": "markdown",
   "id": "93a64d2e",
   "metadata": {},
   "source": [
    "<p>The struct module in Python is used to convert native Python data types such as strings and numbers into a string of bytes and vice versa. What this means is that users can parse binary files of data stored in C structs in Python.</p>\n",
    "\n",
    "<p>It is used mostly for handling binary data stored in files or from network connections, among other sources.</p>\n",
    "\n",
    "<p>The module is only available in Python 3.x and needs to be imported first by writing</p>\n",
    "\n",
    "import struct<br>\n",
    "This process needs to be done at the start of the program.<br><br>\n",
    "\n",
    "Struct Functions<br>\n",
    "There are several functions built into the struct module. Some important ones are:<br>\n",
    "<br>\n",
    "<p><b>struct.pack()</b></p>\n",
    "<p>struct.pack() is the function that converts a given list of values into their corresponding string representation. It requires the user to specify the format and order of the values that need to be converted.</p>"
   ]
  },
  {
   "cell_type": "code",
   "execution_count": 8,
   "id": "8f49070b",
   "metadata": {},
   "outputs": [],
   "source": [
    "# Q8. When is pickling the best option?"
   ]
  },
  {
   "cell_type": "markdown",
   "id": "98f4fd43",
   "metadata": {},
   "source": [
    "<p>The Python pickle module is a better choice for all the remaining use cases. If you don't need a human-readable format or a standard interoperable format, or if you need to serialize custom objects, then go with pickle .</p>"
   ]
  },
  {
   "cell_type": "code",
   "execution_count": 9,
   "id": "2655503f",
   "metadata": {},
   "outputs": [],
   "source": [
    "# Q9. When will it be best to use the shelve package?"
   ]
  },
  {
   "cell_type": "markdown",
   "id": "3b6c2dc7",
   "metadata": {},
   "source": [
    "<p>Purpose: The shelve module implements persistent storage for arbitrary Python objects which can be pickled, using a dictionary-like API. The shelve module can be used as a simple persistent storage option for Python objects when a relational database is overkill.</p>"
   ]
  },
  {
   "cell_type": "code",
   "execution_count": 10,
   "id": "66bbfb5e",
   "metadata": {},
   "outputs": [],
   "source": [
    "# Q10. What is a special restriction when using the shelve package, as opposed to using other data\n",
    "# dictionaries?"
   ]
  },
  {
   "cell_type": "markdown",
   "id": "ce3bf9a5",
   "metadata": {},
   "source": [
    "<p>The shelve module implements persistent storage for arbitrary Python objects which can be pickled, using a dictionary-like API. The shelve module can be used as a simple persistent storage option for Python objects when a relational database is overkill. The shelf is accessed by keys, just as with a dictionary.</p>\n",
    "<p>The shelve module in Python’s standard library is a simple yet effective tool for persistent data storage when using a relational database solution is not required. The shelf object defined in this module is dictionary-like object which is persistently stored in a disk file. This creates afile similar to dbm database on UNIX like systems. Only string data type can be used as key in this special dictionary object, whereas any picklable object can serve as value.</p>\n",
    "<p>The shelve module defines three classes as follows −</p>\n",
    "<p><b>Shelf</b><br>\n",
    "This is the base class for shelf implementations. It is initialized with dict-like object.</p>\n",
    "<p><b>BsdDbShelf </b><br>\n",
    "his is a subclass of Shelf class. The dict object passed to its constructor must support first(), next(), previous(), last() and set_location() methods.</p>\n",
    "<p><b>Shelf</b><br>\n",
    "This is also a subclass of Shelf but accepts a filename as parameter to its constructor rather than dict object.</p>"
   ]
  }
 ],
 "metadata": {
  "kernelspec": {
   "display_name": "Python 3 (ipykernel)",
   "language": "python",
   "name": "python3"
  },
  "language_info": {
   "codemirror_mode": {
    "name": "ipython",
    "version": 3
   },
   "file_extension": ".py",
   "mimetype": "text/x-python",
   "name": "python",
   "nbconvert_exporter": "python",
   "pygments_lexer": "ipython3",
   "version": "3.10.1"
  }
 },
 "nbformat": 4,
 "nbformat_minor": 5
}
