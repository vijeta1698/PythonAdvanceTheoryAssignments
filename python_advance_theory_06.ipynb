{
 "cells": [
  {
   "cell_type": "code",
   "execution_count": 1,
   "id": "ae55a36d",
   "metadata": {},
   "outputs": [],
   "source": [
    "# Q1. Describe three applications for exception processing."
   ]
  },
  {
   "cell_type": "markdown",
   "id": "6629b9f6",
   "metadata": {},
   "source": [
    "<b>Exceptions in Python</b>\n",
    "<p>\n",
    "Python has many built-in exceptions that are raised when your program encounters an error (something in the program goes wrong).\n",
    "</p>\n",
    "<p>\n",
    "When these exceptions occur, the Python interpreter stops the current process and passes it to the calling process until it is handled. If not handled, the program will crash.</p>\n",
    "<p>\n",
    "For example, let us consider a program where we have a function A that calls function B, which in turn calls function C. If an exception occurs in function C but is not handled in C, the exception passes to B and then to A.\n",
    "</p>\n",
    "<p>\n",
    "If never handled, an error message is displayed and our program comes to a sudden unexpected halt.</p>\n",
    "<b>Catching Exceptions in Python</b>\n",
    "<p>In Python, exceptions can be handled using a try statement.</p>\n",
    "<p>\n",
    "The critical operation which can raise an exception is placed inside the try clause. The code that handles the exceptions is written in the except clause.</p>\n",
    "<p>\n",
    "We can thus choose what operations to perform once we have caught the exception. Here is a simple example.</p>\n",
    "<span>\n",
    "import sys<br>\n",
    "\n",
    "randomList = ['a', 0, 2]<br>\n",
    "\n",
    "for entry in randomList:<br>\n",
    "    try:<br>\n",
    "        print(\"The entry is\", entry)<br>\n",
    "        r = 1/int(entry)<br>\n",
    "        break<br>\n",
    "    except:<br>\n",
    "        print(\"Oops!\", sys.exc_info()[0], \"occurred.\")<br>\n",
    "        print(\"Next entry.\")<br>\n",
    "        print()<br>\n",
    "print(\"The reciprocal of\", entry, \"is\", r)<br>\n",
    "    </span>"
   ]
  },
  {
   "cell_type": "code",
   "execution_count": 2,
   "id": "5314ffd0",
   "metadata": {},
   "outputs": [],
   "source": [
    "# Q2. What happens if you don't do something extra to treat an exception?"
   ]
  },
  {
   "cell_type": "markdown",
   "id": "01e53370",
   "metadata": {},
   "source": [
    "Then the error will be raised on the python terminal. "
   ]
  },
  {
   "cell_type": "code",
   "execution_count": 3,
   "id": "e9889803",
   "metadata": {},
   "outputs": [],
   "source": [
    "# Q3. What are your options for recovering from an exception in your script?"
   ]
  },
  {
   "cell_type": "markdown",
   "id": "7c6ea027",
   "metadata": {},
   "source": [
    "<p>By using the exception handling. We can use <b>try</b> <b>catch</b> and <b>finally</b> block in our script. Finally block can be used to be recovered from the exception.</p>"
   ]
  },
  {
   "cell_type": "code",
   "execution_count": 4,
   "id": "d816fe73",
   "metadata": {},
   "outputs": [],
   "source": [
    "# Q4. Describe two methods for triggering exceptions in your script."
   ]
  },
  {
   "cell_type": "markdown",
   "id": "c730a5dc",
   "metadata": {},
   "source": [
    "<p>A trigger exception (also known as a \"blocking trigger\") is a kind of trigger that can be used to block another trigger's ability to fire under certain conditions. For example, if a tag has a trigger to fire on all pages and a trigger exception that is set to \"Page URL equals thankyou.</p>"
   ]
  },
  {
   "cell_type": "code",
   "execution_count": 5,
   "id": "b0be0935",
   "metadata": {},
   "outputs": [],
   "source": [
    "# Q5. Identify two methods for specifying actions to be executed at termination time, regardless of\n",
    "# whether or not an exception exists."
   ]
  },
  {
   "cell_type": "markdown",
   "id": "a8e6a55f",
   "metadata": {},
   "source": [
    "<p>StopIteration Raised when the next() method of an iterator does not point to any object.</p>\n",
    "<p>SystemExit Raised by the sys.exit() function.</p>"
   ]
  },
  {
   "cell_type": "code",
   "execution_count": null,
   "id": "9c0f7dd0",
   "metadata": {},
   "outputs": [],
   "source": []
  }
 ],
 "metadata": {
  "kernelspec": {
   "display_name": "Python 3 (ipykernel)",
   "language": "python",
   "name": "python3"
  },
  "language_info": {
   "codemirror_mode": {
    "name": "ipython",
    "version": 3
   },
   "file_extension": ".py",
   "mimetype": "text/x-python",
   "name": "python",
   "nbconvert_exporter": "python",
   "pygments_lexer": "ipython3",
   "version": "3.10.1"
  }
 },
 "nbformat": 4,
 "nbformat_minor": 5
}
