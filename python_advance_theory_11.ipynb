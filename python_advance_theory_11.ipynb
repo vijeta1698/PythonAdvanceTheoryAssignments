{
 "cells": [
  {
   "cell_type": "code",
   "execution_count": 1,
   "id": "af30a18a",
   "metadata": {},
   "outputs": [],
   "source": [
    "#Q1. What is the concept of a metaclass?"
   ]
  },
  {
   "cell_type": "markdown",
   "id": "a30b6f7c",
   "metadata": {},
   "source": [
    "<p>A metaclass in Python is a class of a class that defines how a class behaves. A class is itself an instance of a metaclass. A class in Python defines how the instance of the class will behave. In order to understand metaclasses well, one needs to have prior experience working with Python classes.<p>\n"
   ]
  },
  {
   "cell_type": "code",
   "execution_count": 2,
   "id": "a377cfd8",
   "metadata": {},
   "outputs": [],
   "source": [
    "#Q2. What is the best way to declare a class's metaclass?"
   ]
  },
  {
   "cell_type": "markdown",
   "id": "4b60bd4e",
   "metadata": {},
   "source": [
    "<b>Everything in Python is an Object</b>\n",
    "<span>\n",
    "    class TestClass():<br>\n",
    "    pass<br>\n",
    "</span>\n",
    "<p>Python Classes can be Created Dynamically</p>\n",
    "<p><span style=\"background:gray; padding:5px; border-radius:5px;\">type</span> in Python enables us to find the type of an object. We can proceed to check the type of object we created above.</p>\n",
    "<span>\n",
    "&emsp;type(TestClass)<br>\n",
    "&emsp;type<br>\n",
    "&emsp;type(type)<br>\n",
    "&emsp;type<br>\n",
    "</span>\n",
    "<p>Wait, What just happened? We'd expect the <span style=\"background:gray; padding:5px; border-radius:5px;\">type</span> of the object we created above to be class, but it's not. Hold on to that thought. We will cover it further in a few. We also notice that the <span style=\"background:gray; padding:5px; border-radius:5px;\">type</span> of type itself is type. It is an instance of <span style=\"background:gray; padding:5px; border-radius:5px;\">type</span>. Another magical thing that <span style=\"background:gray; padding:5px; border-radius:5px;\">type</span> does is enable us to create classes dynamically. Let's show how we'd do that below. The DataCamp class shown below would be created as shown below using type:</p><br>\n",
    "<span>\n",
    "class DataCamp():<br>\n",
    "&emsp;pass<br><br>\n",
    "    \n",
    "DataCampClass = type('DataCamp', (), {})<br>\n",
    "print(DataCampClass)<br>\n",
    "print(DataCamp())<br>\n",
    "<br>\n",
    "<class '__main__.DataCamp'><br>\n",
    "<__main__.DataCamp object at 0x7f6fcc66e358><br>\n",
    "<span>\n",
    "<p>In the above example DataCamp is the class name while DataCampClass is the variable that holds the class reference. When using type we can pass attributes of the class using a dictionary as shown below:</p><br>\n",
    "<span>\n",
    "    PythonClass = type('PythonClass', (), {'start_date': 'August 2018', 'instructor': 'John Doe'} )<br>\n",
    "    print(PythonClass.start_date, PythonClass.instructor)<br>\n",
    "    print(PythonClass)\n",
    "</span>\n",
    "\n",
    "<span style=\"padding:3px; background:gray; border-radius:5px;\">\n",
    "August 2018 John Doe\n",
    "<class '__main__.PythonClass'>\n",
    "</span>\n",
    "<p>In case we wanted our PythonClass to inherit from the DataCamp class we pass it to our second argument when defining the class using type</p>\n",
    "    \n",
    "<span style=\"padding:3px; background:gray; border-radius:5px;\">\n",
    "PythonClass = type('PythonClass', (DataCamp,), {'start_date': 'August 2018', 'instructor': 'John Doe'} )\n",
    "</span><br><br>\n",
    "    \n",
    "<span style=\"padding:3px; background:gray; border-radius:5px;\">\n",
    "print(PythonClass)\n",
    "</span><br><br>\n",
    "<span style=\"padding:3px; background:gray; border-radius:5px;\">\n",
    "class '__main__.PythonClass'>\n",
    " </span><br>\n",
    "<p>Now that those two concepts are out of the way, we realize that Python creates the classes using a metaclass. We have seen that everything in Python is an object, these objects are created by metaclasses. Whenever we call class to create a class, there is a metaclass that does the magic of creating the class behind the scenes. We've already seen type do this in practice above. It is similar to str that creates strings and int that creates integers. In Python, the ___class__attribute enables us to check the type of the current instance. Let's create a string below and check its type.</p>"
   ]
  },
  {
   "cell_type": "code",
   "execution_count": 3,
   "id": "4666b3ce",
   "metadata": {},
   "outputs": [],
   "source": [
    "#Q3. How do class decorators overlap with metaclasses for handling classes?"
   ]
  },
  {
   "cell_type": "markdown",
   "id": "ba6c47bc",
   "metadata": {},
   "source": [
    "<p>To decorate a method in a class, first use the '@' symbol followed by the name of the decorator function. A decorator is simply a function that takes a function as an argument and returns yet another function. Here, when we decorate, multiply_together with integer_check, the integer function gets called.</p>\n",
    "<p>In Python, the @classmethod decorator is used to declare a method in the class as a class method that can be called using ClassName. MethodName() . The class method can also be called using an object of the class. The @classmethod is an alternative of the classmethod() function.</p>\n",
    "<p>\n",
    "Decorators are a very powerful and useful tool in Python since it allows programmers to modify the behaviour of function or class. Decorators allow us to wrap another function in order to extend the behaviour of the wrapped function, without permanently modifying it.</p>\n",
    "<p>Having said that, it's also interesting to note that the class decorators described in the preceding chapter sometimes overlap with metaclasses in terms of functionality. Although they are typically used for managing or augmenting instances, class decorators can also augment classes, independent of any created instances.</p>"
   ]
  }
 ],
 "metadata": {
  "kernelspec": {
   "display_name": "Python 3 (ipykernel)",
   "language": "python",
   "name": "python3"
  },
  "language_info": {
   "codemirror_mode": {
    "name": "ipython",
    "version": 3
   },
   "file_extension": ".py",
   "mimetype": "text/x-python",
   "name": "python",
   "nbconvert_exporter": "python",
   "pygments_lexer": "ipython3",
   "version": "3.10.1"
  }
 },
 "nbformat": 4,
 "nbformat_minor": 5
}
