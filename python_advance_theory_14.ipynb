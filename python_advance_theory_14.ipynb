{
 "cells": [
  {
   "cell_type": "code",
   "execution_count": 1,
   "id": "cad5fe41",
   "metadata": {},
   "outputs": [],
   "source": [
    "# Q1. Is an assignment operator like += only for show? Is it possible that it would lead to faster results\n",
    "# at the runtime?"
   ]
  },
  {
   "cell_type": "markdown",
   "id": "0217c34a",
   "metadata": {},
   "source": [
    "<p>No its not for show. The operator is known as \"<b>Add and Assign</b>\" it add right side operand with left side operand and then assign to left operand. For Ex a = 1  b = 2  a += b  print(a) => 3</p>\n",
    "<p>As it leads to faster result in terms of milli seconds</p>"
   ]
  },
  {
   "cell_type": "code",
   "execution_count": 2,
   "id": "91e472cb",
   "metadata": {},
   "outputs": [],
   "source": [
    "# Q2. What is the smallest number of statements you'd have to write in most programming languages to\n",
    "# replace the Python expression a, b = a + b, a?"
   ]
  },
  {
   "cell_type": "markdown",
   "id": "25b4b210",
   "metadata": {},
   "source": [
    "a += a+b <br>\n",
    "b = a"
   ]
  },
  {
   "cell_type": "code",
   "execution_count": 3,
   "id": "09b2dcc1",
   "metadata": {},
   "outputs": [],
   "source": [
    "#Q3. In Python, what is the most effective way to set a list of 100 integers to 0?"
   ]
  },
  {
   "cell_type": "markdown",
   "id": "6b1c825e",
   "metadata": {},
   "source": [
    "for each in list:<br>\n",
    "    List.replace(each,0)\n",
    "  "
   ]
  },
  {
   "cell_type": "code",
   "execution_count": 4,
   "id": "4dadb484",
   "metadata": {},
   "outputs": [],
   "source": [
    "# Q4. What is the most effective way to initialise a list of 99 integers that repeats the sequence 1, 2, 3?\n",
    "# S If necessary, show step-by-step instructions on how to accomplish this."
   ]
  },
  {
   "cell_type": "markdown",
   "id": "c717f50c",
   "metadata": {},
   "source": [
    "list = []<br>\n",
    "count = 0<br>\n",
    "for i in range(0,99):<br>\n",
    "    &emsp;count += 1<br>\n",
    "    &emsp;list.append(count)<br>\n",
    "    &emsp;if count == 3:<br>\n",
    "        &emsp;&emsp;count = 0<br>"
   ]
  },
  {
   "cell_type": "code",
   "execution_count": 5,
   "id": "de22401b",
   "metadata": {},
   "outputs": [],
   "source": [
    "# Q5. If you're using IDLE to run a Python application, explain how to print a multidimensional list as\n",
    "# efficiently?"
   ]
  },
  {
   "cell_type": "markdown",
   "id": "579195e2",
   "metadata": {},
   "source": [
    "<p>There can be more than one additional dimension to lists in Python. Keeping in mind that a list can hold other lists, that basic principle can be applied over and over. Multi-dimensional lists are the lists within lists. Usually, a dictionary will be the better choice rather than a multi-dimensional list in Python.</p><br>\n",
    "a = [[2, 4, 6, 8, 10], [3, 6, 9, 12, 15], [4, 8, 12, 16, 20]] <br>\n",
    "for record in a:<br>\n",
    "    print(record)<br><br>\n",
    "<b>Output:</b><br>\n",
    "[2, 4, 6, 8, 10]<br>\n",
    "[3, 6, 9, 12, 15]<br>\n",
    "[4, 8, 12, 16, 20]<br>"
   ]
  },
  {
   "cell_type": "code",
   "execution_count": 6,
   "id": "a6a14453",
   "metadata": {},
   "outputs": [],
   "source": [
    "# Q6. Is it possible to use list comprehension with a string? If so, how can you go about doing it?"
   ]
  },
  {
   "cell_type": "markdown",
   "id": "d4a4df5e",
   "metadata": {},
   "source": [
    "<p>List comprehension in Python is an easy and compact syntax for creating a list from a string or another list. It is a very concise way to create a new list by performing an operation on each item in the existing list. List comprehension is considerably faster than processing a list using the for loop.</p>\n",
    "<p>[expression for element in iterable if condition]</p>\n",
    "<p>As per the above syntax, the list comprehension syntax contains three parts: an expression, one or more for loop, and optionally, one or more if conditions. The list comprehension must be in the square brackets []. The result of the first expression will be stored in the new list. The for loop is used to iterate over the iterable object that optionally includes the if condition.</p>"
   ]
  },
  {
   "cell_type": "code",
   "execution_count": 7,
   "id": "f0553890",
   "metadata": {},
   "outputs": [],
   "source": [
    "# Q7. From the command line, how do you get support with a user-written Python programme? Is this\n",
    "# possible from inside IDLE?"
   ]
  },
  {
   "cell_type": "markdown",
   "id": "0df8abb9",
   "metadata": {},
   "source": [
    "You can use --help <br>\n",
    "Print a short description of all command line options. <br>\n",
    "In IDES we can install various extesnions that can help us in our programme."
   ]
  },
  {
   "cell_type": "code",
   "execution_count": 8,
   "id": "dfbabf7c",
   "metadata": {},
   "outputs": [],
   "source": [
    "# Q8. Functions are said to be “first-class objects” in Python but not in most other languages, such as\n",
    "# C++ or Java. What can you do in Python with a function (callable object) that you can't do in C or\n",
    "# C++ ?"
   ]
  },
  {
   "cell_type": "markdown",
   "id": "edc30773",
   "metadata": {},
   "source": [
    "Python has no declaration. C is a compiled language. C++ is a compiled language. Python is an interpreted language"
   ]
  },
  {
   "cell_type": "code",
   "execution_count": 9,
   "id": "a3fd2667",
   "metadata": {},
   "outputs": [],
   "source": [
    "# Q9. How do you distinguish between a wrapper, a wrapped feature, and a decorator?"
   ]
  },
  {
   "cell_type": "markdown",
   "id": "4ce7cb7b",
   "metadata": {},
   "source": [
    "Wrappers around the functions are also knows as decorators which are a very powerful and useful tool in Python since it allows programmers to modify the behavior of function or class. Decorators allow us to wrap another function in order to extend the behavior of the wrapped function, without permanently modifying it. In Decorators, functions are taken as the argument into another function and then called inside the wrapper function."
   ]
  },
  {
   "cell_type": "code",
   "execution_count": 10,
   "id": "fa696931",
   "metadata": {},
   "outputs": [],
   "source": [
    "# Q10. If a function is a generator function, what does it return?"
   ]
  },
  {
   "cell_type": "markdown",
   "id": "b76fc0e1",
   "metadata": {},
   "source": [
    "A generator is a special type of function which does not return a single value, instead, it returns an iterator object with a sequence of values."
   ]
  },
  {
   "cell_type": "code",
   "execution_count": 11,
   "id": "4cbe7281",
   "metadata": {},
   "outputs": [],
   "source": [
    "# Q11. What is the one improvement that must be made to a function in order for it to become a\n",
    "# generator function in the Python language?"
   ]
  },
  {
   "cell_type": "markdown",
   "id": "70311441",
   "metadata": {},
   "source": [
    "Python provides a generator to create your own iterator function. A generator is a special type of function which does not return a single value, instead, it returns an iterator object with a sequence of values. In a generator function, a yield statement is used rather than a return statement."
   ]
  },
  {
   "cell_type": "code",
   "execution_count": 12,
   "id": "f4b3af1e",
   "metadata": {},
   "outputs": [],
   "source": [
    "# Q12. Identify at least one benefit of generators."
   ]
  },
  {
   "cell_type": "markdown",
   "id": "95c15ccd",
   "metadata": {},
   "source": [
    "Memory efficient method of generating sequence types in python."
   ]
  }
 ],
 "metadata": {
  "kernelspec": {
   "display_name": "Python 3 (ipykernel)",
   "language": "python",
   "name": "python3"
  },
  "language_info": {
   "codemirror_mode": {
    "name": "ipython",
    "version": 3
   },
   "file_extension": ".py",
   "mimetype": "text/x-python",
   "name": "python",
   "nbconvert_exporter": "python",
   "pygments_lexer": "ipython3",
   "version": "3.10.1"
  }
 },
 "nbformat": 4,
 "nbformat_minor": 5
}
