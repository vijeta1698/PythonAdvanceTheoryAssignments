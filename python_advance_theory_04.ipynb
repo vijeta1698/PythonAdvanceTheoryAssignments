{
 "cells": [
  {
   "cell_type": "code",
   "execution_count": 1,
   "id": "75257752",
   "metadata": {},
   "outputs": [],
   "source": [
    "#Q1. Which two operator overloading methods can you use in your classes to support iteration?"
   ]
  },
  {
   "cell_type": "markdown",
   "id": "d577b998",
   "metadata": {},
   "source": [
    "<p>The __iter__ returns the iterator object and is implicitly called at the start of loops. The __next__ method returns the next value and is implicitly called at each loop increment. __next__ raises a StopIteration exception when there are no more value to return, which is implicitly captured by looping constructs to stop iterating.</p>\n",
    "\n",
    "class Counter:<br>\n",
    "    def __init__(self, low, high):<br>\n",
    "        self.current = low<br>\n",
    "        self.high = high<br>\n",
    " \n",
    "    def __iter__(self):\n",
    "        return self\n",
    " \n",
    "    def __next__(self):\n",
    "        if self.current > self.high:\n",
    "            raise StopIteration\n",
    "        else:\n",
    "            self.current += 1\n",
    "            return self.current - 1\n",
    " \n",
    " \n",
    "for num in Counter(5, 15):<br>\n",
    "    print(num)"
   ]
  },
  {
   "cell_type": "code",
   "execution_count": null,
   "id": "48312a21",
   "metadata": {},
   "outputs": [],
   "source": [
    "#Q2. In what contexts do the two operator overloading methods manage printing?"
   ]
  },
  {
   "cell_type": "markdown",
   "id": "91d6672c",
   "metadata": {},
   "source": [
    "<p>Overloading, in the context of programming, refers to the ability of a function or an operator to behave in different ways depending on the parameters that are passed to the function, or the operands that the operator acts on. In this article, we will see how we can perform function overloading and operator overloading in Python.</p>\n",
    "<p>Overloading a method fosters reusability. For instance, instead of writing multiple methods that differ only slightly, we can write one method and overload it. Overloading also improves code clarity and eliminates complexity.</p>\n",
    "<p>Overloading is a very useful concept. However, it has a number of disadvantages associated with it. Overloading can cause confusion when used across inheritance boundaries. When used excessively, it becomes cumbersome to manage overloaded functions.</p>\n",
    "<p>Depending on how the function has been defined, we can call it with zero, one, two, or even many parameters. This is referred to as \"function overloading\".</p>\n",
    "<p>Function overloading is further divided into two types: overloading built-in functions and overloading custom functions. We will look at both the types in the upcoming sections.</p>\n",
    "<p>Python allows us to change the default behavior of an operator depending on the operands that we use. This practice is referred to as \"operator overloading\".</p>\n",
    "<p>The functionality of Python operators depends on built-in classes. However, the same operator will behave differently when applied to different types. A good example is the \"+\" operator. This operator will perform an arithmetic operation when applied on two numbers, will concatenate two strings, and will merge two lists.</p>"
   ]
  },
  {
   "cell_type": "code",
   "execution_count": 2,
   "id": "f0bc5b0e",
   "metadata": {},
   "outputs": [],
   "source": [
    "#Q3. In a class, how do you intercept slice operations?"
   ]
  },
  {
   "cell_type": "markdown",
   "id": "995e0d17",
   "metadata": {},
   "source": [
    "<p>Python slice() function returns a slice object. \n",
    "</p><p>\n",
    "A sequence of objects of any type(string, bytes, tuple, list or range) or the object which implements __getitem__() and __len__() method then this object can be sliced using slice() method.</p>\n",
    "<ul>Syntax:\n",
    "\n",
    "    <li>slice(stop)</li>\n",
    "    <li>slice(start, stop, step)</li>\n",
    "</ul>\n",
    "<ul>Parameters: \n",
    "    <li>start: Starting index where the slicing of object starts.</li>\n",
    "    <li>stop: Ending index where the slicing of object stops.</li>\n",
    "    <li>step: It is an optional argument that determines the increment between each index for slicing</li>\n",
    "</ul>\n",
    "<p>Return Type: Returns a sliced object containing elements in the given range only.</p>"
   ]
  },
  {
   "cell_type": "code",
   "execution_count": 3,
   "id": "77ce3766",
   "metadata": {},
   "outputs": [],
   "source": [
    "#Q4. In a class, how do you capture in-place addition?"
   ]
  },
  {
   "cell_type": "markdown",
   "id": "3f6eeafa",
   "metadata": {},
   "source": [
    "<p>Python in its definition provides methods to perform inplace operations, i.e doing assignment and computation in a single statement using “operator” module. For example,</p>\n",
    "<p>x += y is equivalent to x = operator.iadd(x, y) </p>\n",
    "<p>Important Inplace operations :</p>\n",
    "<p> <b>iadd()</b> :- This function is used to assign and add the current value. This operation does “a+=b” operation. Assigning is not performed in case of immutable containers, such as strings, numbers and tuples.</p>"
   ]
  },
  {
   "cell_type": "code",
   "execution_count": 4,
   "id": "b80cd89e",
   "metadata": {},
   "outputs": [],
   "source": [
    "#Q5. When is it appropriate to use operator overloading?"
   ]
  },
  {
   "cell_type": "markdown",
   "id": "faf86b97",
   "metadata": {},
   "source": [
    "<p>Operator Overloading means giving extended meaning beyond their predefined operational meaning. For example operator + is used to add two integers as well as join two strings and merge two lists. It is achievable because '+' operator is overloaded by int class and str class</p>"
   ]
  },
  {
   "cell_type": "code",
   "execution_count": null,
   "id": "16c4456a",
   "metadata": {},
   "outputs": [],
   "source": []
  }
 ],
 "metadata": {
  "kernelspec": {
   "display_name": "Python 3 (ipykernel)",
   "language": "python",
   "name": "python3"
  },
  "language_info": {
   "codemirror_mode": {
    "name": "ipython",
    "version": 3
   },
   "file_extension": ".py",
   "mimetype": "text/x-python",
   "name": "python",
   "nbconvert_exporter": "python",
   "pygments_lexer": "ipython3",
   "version": "3.10.1"
  }
 },
 "nbformat": 4,
 "nbformat_minor": 5
}
